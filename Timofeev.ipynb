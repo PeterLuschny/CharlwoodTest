{
 "metadata": {
  "name": "Timofeev"
 },
 "nbformat": 3,
 "nbformat_minor": 0,
 "worksheets": [
  {
   "cells": [
    {
     "cell_type": "raw",
     "metadata": {},
     "source": "http://docs.sympy.org/dev/modules/integrals/integrals.html"
    },
    {
     "cell_type": "code",
     "collapsed": false,
     "input": "from time import clock  \nfrom sympy import *\nfrom __future__ import division\n\nx = Symbol('x')\na = Symbol('a')\nb = Symbol('b')\nn = Symbol('n')",
     "language": "python",
     "metadata": {},
     "outputs": [],
     "prompt_number": 1
    },
    {
     "cell_type": "code",
     "collapsed": false,
     "input": "Timofeev = dict()\n# chapter 1\nTimofeev[101] = (1/(a**2-b**2*x**2),  1/a/b*atanh(b*x/a))\nTimofeev[102] = (1/(a**2+b**2*x**2),  1/a/b*atan(b*x/a))\nTimofeev[103] = (sec(2*a*x), 1/(2*a)*ln(tan(pi/4+a*x)))\nTimofeev[104] = (Rational(1,4)/sin(Rational(1,3)*x), Rational(3,4)*ln(tan(x/6)))\nTimofeev[105] = (1/cos(Rational(3,4)*pi-2*x), Rational(1,2)*ln(tan(pi/8-x)))\nTimofeev[106] = (sec(x)*tan(x), sec(x))\nTimofeev[107] = (csc(x)*cot(x), -csc(x))\nTimofeev[108] = (tan(x)/sin(2*x), Rational(1,2)*tan(x))\nTimofeev[109] = (1/(1+cos(x)), tan(Rational(1,2)*x))\nTimofeev[110] = (1/(1-cos(x)), -cot(1/2*x))\nTimofeev[111] = (sin(x)/(a-b*cos(x)), 1/b*ln(a-b*cos(x)))\nTimofeev[112] = (cos(x)/(a**2+b**2*sin(x)**2), 1/a/b*atan(b*sin(x)/a))\nTimofeev[113] = (cos(x)/(a**2-b**2*sin(x)**2), 1/a/b*atanh(b*sin(x)/a))\nTimofeev[114] = (sin(2*x)/(a**2+b**2*sin(x)**2), 1/b**2*ln(a**2+b**2*sin(x)**2)) \nTimofeev[115] = (sin(2*x)/(b**2*sin(x)**2-a**2), 1/b**2*ln(a**2-b**2*sin(x)**2))\nTimofeev[116] = (sin(2*x)/(cos(x)**2*b**2+a**2), -1/b**2*ln(cos(x)**2*b**2+a**2))\nTimofeev[117] = (sin(2*x)/(cos(x)**2*b**2-a**2), -1/b**2*ln(a**2-cos(x)**2*b**2))\nTimofeev[118] = (1/(4-cos(x)**2), sqrt(3)/6*(atan(sin(x)*cos(x)/(2*sqrt(3)+4 -cos(x)**2))+x))\nTimofeev[119] = (exp(x)/(exp(2*x)-1), -atanh(exp(x)))\nTimofeev[120] = (1/x/ln(x), ln(ln(x)))\nTimofeev[121] = (1/x/(1+ln(x)**2), atan(ln(x)))\nTimofeev[122] = (1/x/(1-ln(x)), -ln(1-ln(x)))\nTimofeev[123] = (1/x/(1+ln(x/a)), ln(1+ln(x/a)))\nTimofeev[124] = ((1-x**Rational(1,2)+x)**2/x**2, 3*ln(x)+x-4*x**Rational(1,2)+4/x**Rational(1,2)-1/x )\nTimofeev[125] = ((2-x**Rational(2,3))*(x+x**Rational(1,2))/x**Rational(3,2), 2*ln(x)-Rational(6,7)*x**Rational(7,6)-Rational(3,2)*x**Rational(2,3)+4*x**Rational(1,2))\nTimofeev[126] = ((2*x-1)/(2*x+3), x-2*ln(2*x+3))\nTimofeev[127] = ((2*x-5)/(3*x**2-2), Rational(1,3)*ln(-3*x**2+2)+Rational(5,6)*6**Rational(1,2)*atanh(Rational(1,2)*6**Rational(1,2)*x) )\nTimofeev[128] = ((2*x-5)/(3*x**2+2), Rational(1,3)*ln(3*x**2+2)-Rational(5,6)*6**Rational(1,2)*atan(Rational(1,2)*6**Rational(1,2)*x))\nTimofeev[129] = (sin(x)*sin(Rational(1,4)*x), Rational(2,3)*sin(Rational(3,4)*x)-Rational(2,5)*sin(Rational(5,4)*x))\nTimofeev[130] = (cos(3*x)*cos(4*x), Rational(1,14)*sin(7*x)+Rational(1,2)*sin(x))\nTimofeev[131] = (tan(x)*tan(a-x), 1/tan(a)*ln(1+tan(a)*tan(x))-x)\nTimofeev[132] = (sin(x)**2, Rational(1,2)*x-Rational(1,2)*sin(x)*cos(x))\nTimofeev[133] = (cos(x)**2, Rational(1,2)*x+Rational(1,2)*sin(x)*cos(x))\nTimofeev[134] = (sin(x)*cos(x)**3, -Rational(1,4)*cos(x)**4)\nTimofeev[135] = (cos(x)**3/sin(x)**4, 1/sin(x)-Rational(1,3)/sin(x)**3)\nTimofeev[136] = (1/sin(x)**2/cos(x)**2, tan(x)-cot(x))\nTimofeev[137] = (cot(Rational(3,4)*x)**2, -Rational(4,3)*cot(Rational(3,4)*x)-x)\nTimofeev[138] = ((1+tan(2*x))**2, Rational(1,2)*tan(2*x)-ln(cos(2*x)))\nTimofeev[139] = ((tan(x)-cot(x))**2, tan(x)-cot(x)-4*x)\nTimofeev[140] = ((tan(x)-sec(x))**2, 2*tan(x/2-pi/4)-x)\nTimofeev[141] = (sin(x)/(1+sin(x)), tan(pi/4-x/2)+x)\nTimofeev[142] = (cos(x)/(1-cos(x)), -cot(Rational(1,2)*x)-x)\nTimofeev[143] = ((exp(Rational(1,2)*x)-1)**3*exp(-Rational(1,2)*x), -6*exp(Rational(1,2)*x)+2*exp(-Rational(1,2)*x)+exp(x)+3*x)\nTimofeev[144] = (1/(x**2-6*x+5), Rational(1,4)*ln((x-5)/(x-1)))\nTimofeev[145] = (x**2/(x**6-6*x**3+13), Rational(1,6)*atan(Rational(1,2)*x**3-Rational(3,2)))\nTimofeev[146] = ((x+2)/(x**2-4*x-1), Rational(1,2)*ln(1+4*x-x**2)+4/sqrt(5)*atanh((2-x)/sqrt(5)))\nTimofeev[147] = (1/(1+(x+1)**Rational(1,3)), Rational(3,2)*(x+1)**Rational(2,3)-3*(x+1)**Rational(1,3)+3*ln(1+(x+1)**Rational(1,3)))\nTimofeev[148] = (1/(a*x+b)/x**Rational(1,2), 2/a**Rational(1,2)/b**Rational(1,2)*atan(a**Rational(1,2)*x**Rational(1,2)/b**Rational(1,2)))\nTimofeev[149] = (x**3*(x**2+1)**Rational(1,2), Rational(1,15)*(3*x**4+x**2-2)*(x**2+1)**Rational(1,2))\nTimofeev[150] = (x/(a**4-x**4)**Rational(1,2), 1/2*atan(x**2/sqrt(a**4-x**4)))\nTimofeev[151] = (1/x/(x**2-a**2)**Rational(1,2), 1/a*atan((x**2-a**2)**Rational(1,2)/a))\nTimofeev[152] = (1/x/(a**2-x**2)**Rational(1,2), -1/a*atanh((a**2-x**2)**Rational(1,2)/a))\nTimofeev[153] = (1/x/(a**2+x**2)**Rational(1,2), -1/a*atanh(a/(a**2+x**2)**Rational(1,2)))\nTimofeev[154] = (1/(-x**2+x+2)**Rational(1,2), asin(Rational(2,3)*x-Rational(1,3)))\nTimofeev[155] = (1/(3*x**2-4*x+5)**Rational(1,2), 1/sqrt(3)*asinh((3*x-2)/sqrt(11)))\nTimofeev[156] = (1/(-x**2+x)**Rational(1,2), asin(2*x-1))\nTimofeev[157] = ((2*x+1)/(-x**2+x+2)**Rational(1,2), 2*asin(Rational(2,3)*x-Rational(1,3))-2*(-x**2+x+2)**Rational(1,2))\nTimofeev[158] = (1/x/(2+x-x**2)**Rational(1,2), -1/sqrt(2)*atanh(2*sqrt(2)*sqrt(2+x-x**2)/(4+x)))\nTimofeev[159] = (1/(x-2)/(-x**2+x+2)**(1/2), 2*(-x**2+x+2)**(1/2)/(3*x-6))\nTimofeev[160] = ((2+3*sin(x))/sin(x)/(1-cos(x)), -atanh(cos(x))+(3*sin(x)+1)/(cos(x)-1))\nTimofeev[161] = (1/(2+3*cos(x)**2), Rational(1,10)*10**Rational(1,2)*(x-atan(3*sin(x)*cos(x)/(10**Rational(1,2)+2+3*cos(x)**2))))\nTimofeev[162] = ((1-tan(x))/sin(2*x), Rational(1,2)*(ln(tan(x))-tan(x)))\nTimofeev[163] = ((1+tan(x)**2)/(1-tan(x)**2), 1/2*ln((1+tan(x))/(1-tan(x))))\nTimofeev[164] = ((a**2-4*cos(x)**2)**Rational(3,4)*sin(2*x), Rational(1,7)*(a**2-4*cos(x)**2)**Rational(7,4))\nTimofeev[165] = (sin(2*x)/(a**2-4*sin(x)**2)**Rational(1,3), -Rational(3,8)*(a**2-4*sin(x)**2)**Rational(2,3))\nTimofeev[166] = (1/(a**(2*x)-1)**Rational(1,2), 1/ln(a)*atan((a**(2*x)-1)**Rational(1,2)) )\nTimofeev[167] = (exp(Rational(1,2)*x)/(exp(x)-1)**Rational(1,2), 2*ln((exp(x)-1)**Rational(1,2)+exp(Rational(1,2)*x)))\nTimofeev[168] = (atan(x)**n/(x**2+1), 1/(n+1)*atan(x)**(n+1))\nTimofeev[169] = (asin(x/a)**Rational(3,2)/(a**2-x**2)**Rational(1,2), Rational(2,5)*a/(a**2-x**2)**Rational(1,2)*(1-x**2/a**2)**Rational(1,2)*asin(x/a)**Rational(5,2))\nTimofeev[170] = (1/acos(x)**3/(-x**2+1)**Rational(1,2), 1/2/acos(x)**2)\nTimofeev[171] = (ln(x)**2*x, Rational(1,2)*x**2*(ln(x)**2-ln(x)+Rational(1,2)))\nTimofeev[172] = (ln(x)/x**5, -Rational(1,16)*(4*ln(x)+1)/x**4)\nTimofeev[173] = (x**2*ln((x-1)/x), Rational(1,3)*x**3*ln((x-1)/x)-Rational(1,3)*ln(x-1)-Rational(1,6)*x*(x+2))\nTimofeev[174] = (cos(x)**5, Rational(1,15)*sin(x)*(3*cos(x)**4+4*cos(x)**2+8))\nTimofeev[175] = (cos(x)**4*sin(x)**2, Rational(1,6)*sin(x)**3*cos(x)**3+Rational(1,8)*sin(x)**3*cos(x)-Rational(1,16)*sin(x)*cos(x)+Rational(1,16)*x)\nTimofeev[176] = (1/sin(x)**5, -Rational(3,8)*atanh(cos(x))-3*cos(x)/(8*sin(x)**2)-cos(x)/(4*sin(x)**4))\nTimofeev[177] = (sin(x)*exp(-x), -Rational(1,2)*(cos(x)+sin(x))*exp(-x))\nTimofeev[178] = (exp(2*x)*sin(3*x), Rational(1,13)*exp(2*x)*(2*sin(3*x)-3*cos(3*x)))\nTimofeev[179] = (a**x*cos(x), a**x/(ln(a)**2+1)*(ln(a)*cos(x)+sin(x)))\nTimofeev[180] = (cos(ln(x)), Rational(1,2)*x*(cos(ln(x))+sin(ln(x))))\nTimofeev[181] = (sec(x)**2*ln(cos(x)), tan(x)*ln(cos(x))+tan(x)-x)\nTimofeev[182] = (x*tan(x)**2, ln(cos(x))+x*tan(x)-Rational(1,2)*x**2)\nTimofeev[183] = (asin(x)/x**2, -asin(x)/x-atanh(sqrt(1-x**2)))\nTimofeev[184] = (asin(x)**2, x*asin(x)**2+2*asin(x)*(-x**2+1)**Rational(1,2)-2*x)\nTimofeev[185] = (x**2*atan(x)/(x**2+1), x*atan(x)-Rational(1,2)*atan(x)**2-Rational(1,2)*ln(x**2+1))\nTimofeev[186] = (acos((x/(x+1))**Rational(1,2)), (x+1)*(acos((x/(x+1))**Rational(1,2))+(1/(x+1))**(1/2)*(x/(x+1))**Rational(1,2)))\n# chapter 3\nTimofeev[301] = (1/((x-2)**3*(x+1)**2), (2*x**2-5*x-1)/(18*(x+1)*(x-2)**2)+Rational(1,27)*log((x-2)/(x+1)) )\nTimofeev[302] = (1/((x+2)**3*(x+3)**4), (60*x**4+630*x**3+2450*x**2+4175*x+2627)/(6*(x+2)**2*(x+3)**3)+10*log((x+2)/(x+3)) )\nTimofeev[303] = (x**5/(3+x)**2,  Rational(1,4)*x**4-2*x**3+Rational(27,2)*x**2-108*x+243/(x+3)+405*log(x+3) )\nTimofeev[304] = (x/(3+6*x+2*x**2), Rational(1,4)*log(-(3+6*x+2*x**2))+sqrt(3)/2*atanh((3+2*x)/sqrt(3)) )\nTimofeev[305] = ((2*x-3)/(3+6*x+2*x**2)**3, -(8*x**3+36*x**2+44*x+13)/(4*(2*x**2+6*x+3)**2)+1/sqrt(3)*atanh((3+2*x)/sqrt(3)) )\nTimofeev[306] = ((x-1)/(x**2+5*x+4)**2, (7*x+13)/(9*(x**2+5*x+4))+Rational(7,27)*log((x+1)/(x+4)) )\nTimofeev[307] = (1/(x**2+3*x+2)**5, (2*x+3)/(4*(x**2+3*x+2)**4)*(-1+Rational(14,3)*(x**2+3*x+2)-Rational(70,3)*(x**2+3*x+2)**2+140*(x**2+3*x+2)**3)+70*log((x+1)/(x+2)) )\nTimofeev[308] = (1/(x**3*(7-6*x+2*x**2)**2), -1/(98*x**2)-12/(343*x)+2*(41-9*x)/(1715*(7-6*x+2*x**2))+Rational(80,2401)*log(x)-Rational(40,2401)*log(7-6*x+2*x**2)+234*sqrt(5)/60025*atan((2*x-3)/sqrt(5)) )\nTimofeev[309] = (x**9/(x**2+3*x+2)**5, -(25*x**8+35292*x**7+369950*x**6+1632276*x**5+3919731*x**4+5527800*x**3+4578216*x**2+2063520*x+390960)/(24*(x**2+3*x+2)**4)+1472*log(x+2)-1471*log(x+1) )\nTimofeev[310] = ((1+2*x)**2/(3+5*x+2*x**2)**5, -(11+10*x)/(4*(2*x**2+5*x+3)**4)+31*(5+4*x)/(6*(2*x**2+5*x+3)**3)*(1-10*(2*x**2+5*x+3)+120*(2*x**2+5*x+3)**2)+2480*log((x+1)/(2*x+3)) )\nTimofeev[311] = ((a-b*x**2)**3/x**7, -a**3/(6*x**6)+3*a**2*b/(4*x**4)-3*a*b**2/(2*x**2)-b**3*log(x) )\nTimofeev[312] = (x**13/(a**4+x**4)**5, x**2*(15*x**12-73*a**4*x**8-55*a**8*x**4-15*a**12)/(768*a**4*(x**4+a**4)**4)+5/(256*a**6)*atan(x**2/a**2) )\n# chapter 7\nTimofeev[701] = (x**2*cos(x)**5, Rational(1,200)*x*cos(5*x)+(Rational(1,80)*x**2-Rational(1,1000))*sin(5*x)+Rational(5,72)*x*cos(3*x)+(Rational(5,48)*x**2-Rational(5,216))*sin(3*x)+Rational(5,4)*x*cos(x)+(Rational(5,8)*x**2-Rational(5,4))*sin(x) )\nTimofeev[702] = (x**3*sin(x)**3, Rational(1,12)*(x**3-Rational(2,3)*x)*cos(3*x)-Rational(1,12)*(x**2-Rational(2,9))*sin(3*x)-Rational(3,4)*(x**3-6*x)*cos(x)+Rational(9,4)*(x**2-2)*sin(x) )\nTimofeev[703] = (x**2*sin(x)**6, Rational(5,48)*x**3-1/192*(x**2-Rational(1,18))*sin(6*x)-Rational(1,576)*x*cos(6*x)+Rational(3,64)*(x**2-Rational(1,8))*sin(4*x)+Rational(3,128)*x*cos(4*x)-Rational(15,64)*(x**2-Rational(1,2))*sin(2*x)-Rational(15,64)*x*cos(2*x) )\nTimofeev[704] = (x**2*sin(x)**2*cos(x), Rational(1,3)*x**2*sin(x)**3-Rational(1,18)*x*cos(3*x)+Rational(1,54)*sin(3*x)+Rational(1,2)*x*cos(x)-Rational(1,2)*sin(x) )\nTimofeev[705] = (x*cos(x)**4/sin(x)**2, -x*cos(x)*(Rational(1,2)*sin(x)+1/sin(x))+Rational(1,4)*sin(x)**2+log(sin(x))-Rational(3,4)*x**2 )\nTimofeev[706] = (x*sin(x)**3/cos(x)**4, x*(1/(3*cos(x)**3)-1/cos(x))-sin(x)/(6*cos(x)**2)+Rational(5,6)*atanh(sin(x)) )\nTimofeev[707] = (x*sin(x)/cos(x)**3, x/(2*cos(x)**2)-Rational(1,2)*tan(x) )\nTimofeev[708] = (x*sin(x)**3/cos(x), Rational(1,4)*x*cos(2*x)-Rational(1,8)*sin(2*x)+integrate(x*tan(x),x) )\nTimofeev[709] = (x*sin(x)**3/cos(x)**3, x/(2*cos(x)**2)-Rational(1,2)*tan(x)-integrate(x*tan(x),x) )\nTimofeev[710] = ((2*x+sin(2*x))/(x*sin(x)+cos(x))**2, -2*cos(x)/(x*sin(x)+cos(x)) )\nTimofeev[711] = ((x/(x*cos(x)-sin(x)))**2, (x*sin(x)+cos(x))/(x*cos(x)-sin(x)) )\n",
     "language": "python",
     "metadata": {},
     "outputs": [],
     "prompt_number": 2
    },
    {
     "cell_type": "code",
     "collapsed": false,
     "input": "def test(suite, problem):\n    \n    integrand, antideriv = suite[problem]\n    print [problem], \"Timofeev\"\n    print \"integrand :\", integrand \n    print \"antideriv :\", antideriv\n    \n    try:\n        start = clock()  \n        solution = integrate(integrand, x)\n        duration = clock() - start  \n    \n    except RuntimeError, e:\n        print \"integrator: RuntimeError:\", e\n        print \n        return\n    except KeyboardInterrupt:\n        print \"time      :\", round(clock() - start) \n        print \"integrator: Timed out! \\n\"\n        return\n    except AttributeError, e:\n        print \"integrator: AttributeError:\", e\n        print\n        return\n    except ValueError, e: \n        print \"integrator: ValueError:\", e \n        print \"comment   : Additional constraints? Assume? \\n\"\n        return\n    \n    print \"sympy     :\", solution\n          \n    str_solution = str(solution)\n    diffsolution = solution.diff(x) \n    matheq = 0 == simplify((integrand - diffsolution).expand())\n    \n    if len(str_solution) > 2*len(str(antideriv)):\n        print \"comment   : Solution is messy.\"\n            \n    if 'Integral' in str_solution: \n            print \"comment   : Unevaluated or not an elementary solution!\"\n    else:\n        if 'I' in str_solution: \n            print \"comment   : Not a real solution!\"  \n            \n    if 'Piecewise' in str_solution:\n        print \"comment   : Not a continous solution!\"\n    \n    if not matheq:    \n        print \"comment   : Diffs not back to zero. (Check use of abs.)\"\n    \n    print \"time      :\", round(duration)\n    if duration > 60 :\n        print \"You are wasting my time!\"\n    print\n\ndef test_all(suite): \n    start = clock()  \n    for problem in suite.iteritems(): \n        test(suite, problem[0])\n    duration = clock() - start \n    print \"total time:\", round(duration)",
     "language": "python",
     "metadata": {},
     "outputs": [],
     "prompt_number": 3
    },
    {
     "cell_type": "code",
     "collapsed": false,
     "input": "test_all(Timofeev)",
     "language": "python",
     "metadata": {},
     "outputs": [
      {
       "output_type": "stream",
       "stream": "stdout",
       "text": "[101] Timofeev\nintegrand : 1/(a**2 - b**2*x**2)\nantideriv : atanh(b*x/a)/(a*b)\nsympy     :"
      },
      {
       "output_type": "stream",
       "stream": "stdout",
       "text": " -sqrt(1/(a**2*b**2))*log(-a**2*sqrt(1/(a**2*b**2)) + x)/2 + sqrt(1/(a**2*b**2))*log(a**2*sqrt(1/(a**2*b**2)) + x)/2\ncomment   : Solution is messy."
      },
      {
       "output_type": "stream",
       "stream": "stdout",
       "text": "\ntime      : 0.0\n\n[102] Timofeev\nintegrand : 1/(a**2 + b**2*x**2)\nantideriv : atan(b*x/a)/(a*b)\nsympy     :"
      },
      {
       "output_type": "stream",
       "stream": "stdout",
       "text": " -sqrt(-1/(a**2*b**2))*log(-a**2*sqrt(-1/(a**2*b**2)) + x)/2 + sqrt(-1/(a**2*b**2))*log(a**2*sqrt(-1/(a**2*b**2)) + x)/2\ncomment   : Solution is messy."
      },
      {
       "output_type": "stream",
       "stream": "stdout",
       "text": "\ntime      : 0.0\n\n[103] Timofeev\nintegrand : sec(2*a*x)\nantideriv : log(tan(a*x + pi/4))/(2*a)\nsympy     :"
      },
      {
       "output_type": "stream",
       "stream": "stdout",
       "text": " (-log(sin(2*a*x) - 1)/2 + log(sin(2*a*x) + 1)/2)/(2*a)\ncomment   : Solution is messy."
      },
      {
       "output_type": "stream",
       "stream": "stdout",
       "text": "\ncomment   : Diffs not back to zero. (Check use of abs.)\ntime      : 0.0\n\n[104] Timofeev\nintegrand : 1/(4*sin(x/3))\nantideriv : 3*log(tan(x/6))/4\nsympy     : 3*log(cos(x/3) - 1)/8 - 3*log(cos(x/3) + 1)/8"
      },
      {
       "output_type": "stream",
       "stream": "stdout",
       "text": "\ncomment   : Solution is messy."
      },
      {
       "output_type": "stream",
       "stream": "stdout",
       "text": "\ntime      : 0.0\n\n[105] Timofeev\nintegrand : -1/cos(2*x + pi/4)\nantideriv : log(cot(x + 3*pi/8))/2\nsympy     :"
      },
      {
       "output_type": "stream",
       "stream": "stdout",
       "text": " log(tan(x + pi/8) - 1)/2 - log(tan(x + pi/8) + 1)/2\ncomment   : Solution is messy."
      },
      {
       "output_type": "stream",
       "stream": "stdout",
       "text": "\ncomment   : Diffs not back to zero. (Check use of abs.)\ntime      : 0.0\n\n[106] Timofeev\nintegrand : sec(x)*tan(x)\nantideriv : sec(x)\nsympy     : 1/cos(x)\ncomment   : Diffs not back to zero. (Check use of abs.)"
      },
      {
       "output_type": "stream",
       "stream": "stdout",
       "text": "\ntime      : 0.0\n\n[107] Timofeev\nintegrand : csc(x)*cot(x)\nantideriv : -csc(x)\nsympy     : -1/sin(x)\ncomment   : Diffs not back to zero. (Check use of abs.)"
      },
      {
       "output_type": "stream",
       "stream": "stdout",
       "text": "\ntime      : 0.0\n\n[108] Timofeev\nintegrand : tan(x)/sin(2*x)\nantideriv : tan(x)/2\nsympy     :"
      },
      {
       "output_type": "stream",
       "stream": "stdout",
       "text": " Integral(tan(x)/sin(2*x), x)\ncomment   : Solution is messy.\ncomment   : Unevaluated or not an elementary solution!\ntime      : 0.0\n\n[109] Timofeev\nintegrand : 1/(cos(x) + 1)\nantideriv : tan(x/2)\nsympy     :"
      },
      {
       "output_type": "stream",
       "stream": "stdout",
       "text": " tan(x/2)\ncomment   : Diffs not back to zero. (Check use of abs.)"
      },
      {
       "output_type": "stream",
       "stream": "stdout",
       "text": "\ntime      : 0.0\n\n[110] Timofeev\nintegrand : 1/(-cos(x) + 1)\nantideriv : -cot(0.5*x)\nsympy     :"
      },
      {
       "output_type": "stream",
       "stream": "stdout",
       "text": " -1/tan(x/2)\ncomment   : Diffs not back to zero. (Check use of abs.)"
      },
      {
       "output_type": "stream",
       "stream": "stdout",
       "text": "\ntime      : 0.0\n\n[111] Timofeev\nintegrand : sin(x)/(a - b*cos(x))\nantideriv : log(a - b*cos(x))/b\nsympy     :"
      },
      {
       "output_type": "stream",
       "stream": "stdout",
       "text": " log(-a/b + cos(x))/b\ntime      : 0.0\n\n[112] Timofeev\nintegrand : cos(x)/(a**2 + b**2*sin(x)**2)\nantideriv : atan(b*sin(x)/a)/(a*b)\nsympy     :"
      },
      {
       "output_type": "stream",
       "stream": "stdout",
       "text": " -I*log(-I*a/b + sin(x))/(2*a*b) + I*log(I*a/b + sin(x))/(2*a*b)\ncomment   : Solution is messy."
      },
      {
       "output_type": "stream",
       "stream": "stdout",
       "text": "\ncomment   : Not a real solution!\ntime      : 1.0\n\n[113] Timofeev\nintegrand : cos(x)/(a**2 - b**2*sin(x)**2)\nantideriv : atanh(b*sin(x)/a)/(a*b)\nsympy     :"
      },
      {
       "output_type": "stream",
       "stream": "stdout",
       "text": " -log(-a/b + sin(x))/(2*a*b) + log(a/b + sin(x))/(2*a*b)\ncomment   : Solution is messy."
      },
      {
       "output_type": "stream",
       "stream": "stdout",
       "text": "\ntime      : 1.0\n\n[114] Timofeev\nintegrand : sin(2*x)/(a**2 + b**2*sin(x)**2)\nantideriv : log(a**2 + b**2*sin(x)**2)/b**2\nsympy     :"
      },
      {
       "output_type": "stream",
       "stream": "stdout",
       "text": " Integral(sin(2*x)/(a**2 + b**2*sin(x)**2), x)\ncomment   : Unevaluated or not an elementary solution!\ntime      : 15.0\n\n[115] Timofeev\nintegrand : sin(2*x)/(-a**2 + b**2*sin(x)**2)\nantideriv : log(a**2 - b**2*sin(x)**2)/b**2\nsympy     :"
      },
      {
       "output_type": "stream",
       "stream": "stdout",
       "text": " Integral(sin(2*x)/(-a**2 + b**2*sin(x)**2), x)\ncomment   : Unevaluated or not an elementary solution!\ntime      : 14.0\n\n[116] Timofeev\nintegrand : sin(2*x)/(a**2 + b**2*cos(x)**2)\nantideriv : -log(a**2 + b**2*cos(x)**2)/b**2\nsympy     :"
      },
      {
       "output_type": "stream",
       "stream": "stdout",
       "text": " Integral(sin(2*x)/(a**2 + b**2*cos(x)**2), x)\ncomment   : Unevaluated or not an elementary solution!\ntime      : 11.0\n\n[117] Timofeev\nintegrand : sin(2*x)/(-a**2 + b**2*cos(x)**2)\nantideriv : -log(a**2 - b**2*cos(x)**2)/b**2\nsympy     :"
      },
      {
       "output_type": "stream",
       "stream": "stdout",
       "text": " Integral(sin(2*x)/(-a**2 + b**2*cos(x)**2), x)\ncomment   : Unevaluated or not an elementary solution!\ntime      : 11.0\n\n[118] Timofeev\nintegrand : 1/(-cos(x)**2 + 4)\nantideriv : sqrt(3)*(x + atan(sin(x)*cos(x)/(-cos(x)**2 + 2*sqrt(3) + 4)))/6\nsympy     :"
      },
      {
       "output_type": "stream",
       "stream": "stdout",
       "text": " -sqrt(3)*I*log(tan(x/2) - sqrt(3)*I)/12 - sqrt(3)*I*log(tan(x/2) - sqrt(3)*I/3)/12 + sqrt(3)*I*log(tan(x/2) + sqrt(3)*I/3)/12 + sqrt(3)*I*log(tan(x/2) + sqrt(3)*I)/12\ncomment   : Solution is messy."
      },
      {
       "output_type": "stream",
       "stream": "stdout",
       "text": "\ncomment   : Not a real solution!\ncomment   : Diffs not back to zero. (Check use of abs.)\ntime      : 4.0\n\n[119] Timofeev\nintegrand : exp(x)/(exp(2*x) - 1)\nantideriv : -atanh(exp(x))\nsympy     :"
      },
      {
       "output_type": "stream",
       "stream": "stdout",
       "text": " log(exp(x) - 1)/2 - log(exp(x) + 1)/2\ncomment   : Solution is messy.\ntime      : 0.0\n\n[120] Timofeev\nintegrand : 1/(x*log(x))\nantideriv : log(log(x))\nsympy     :"
      },
      {
       "output_type": "stream",
       "stream": "stdout",
       "text": " log(log(x))\ntime      : 0.0\n\n[121] Timofeev\nintegrand : 1/(x*(log(x)**2 + 1))\nantideriv : atan(log(x))\nsympy     :"
      },
      {
       "output_type": "stream",
       "stream": "stdout",
       "text": " -I*log(log(x) - I)/2 + I*log(log(x) + I)/2\ncomment   : Solution is messy."
      },
      {
       "output_type": "stream",
       "stream": "stdout",
       "text": "\ncomment   : Not a real solution!\ntime      : 1.0\n\n[122] Timofeev\nintegrand : 1/(x*(-log(x) + 1))\nantideriv : -log(-log(x) + 1)\nsympy     :"
      },
      {
       "output_type": "stream",
       "stream": "stdout",
       "text": " -log(log(x) - 1)\ntime      : 0.0\n\n[123] Timofeev\nintegrand : 1/(x*(log(x/a) + 1))\nantideriv : log(log(x/a) + 1)\nsympy     :"
      },
      {
       "output_type": "stream",
       "stream": "stdout",
       "text": " log(-log(a) + log(x) + 1)\ncomment   : Diffs not back to zero. (Check use of abs.)"
      },
      {
       "output_type": "stream",
       "stream": "stdout",
       "text": "\ntime      : 0.0\n\n[124] Timofeev\nintegrand : (-sqrt(x) + x + 1)**2/x**2\nantideriv : -4*sqrt(x) + x + 3*log(x) - 1/x + 4/sqrt(x)\nsympy     :"
      },
      {
       "output_type": "stream",
       "stream": "stdout",
       "text": " Integral((-sqrt(x) + x + 1)**2/x**2, x)\ncomment   : Unevaluated or not an elementary solution!\ntime      : 0.0\n\n[125] Timofeev\nintegrand : (sqrt(x) + x)*(-x**(2/3) + 2)/x**(3/2)\nantideriv : -6*x**(7/6)/7 - 3*x**(2/3)/2 + 4*sqrt(x) + 2*log(x)\nsympy     :"
      },
      {
       "output_type": "stream",
       "stream": "stdout",
       "text": " -6*x**(7/6)/7 - 3*x**(2/3)/2 + 4*sqrt(x) + 2*log(x)\ntime      : 7.0\n\n[126] Timofeev\nintegrand : (2*x - 1)/(2*x + 3)\nantideriv : x - 2*log(2*x + 3)\nsympy     : x - 2*log(2*x + 3)\ntime      : 0.0\n\n[127] Timofeev\nintegrand : (2*x - 5)/(3*x**2 - 2)\nantideriv : log(-3*x**2 + 2)/3 + 5*sqrt(6)*atanh(sqrt(6)*x/2)/6\nsympy     :"
      },
      {
       "output_type": "stream",
       "stream": "stdout",
       "text": " (-5*sqrt(6)/12 + 1/3)*log(x - sqrt(6)/3) + (1/3 + 5*sqrt(6)/12)*log(x + sqrt(6)/3)\ntime      :"
      },
      {
       "output_type": "stream",
       "stream": "stdout",
       "text": " 0.0\n\n[128] Timofeev\nintegrand : (2*x - 5)/(3*x**2 + 2)\nantideriv : log(3*x**2 + 2)/3 - 5*sqrt(6)*atan(sqrt(6)*x/2)/6\nsympy     :"
      },
      {
       "output_type": "stream",
       "stream": "stdout",
       "text": " log(x**2 + 2/3)/3 - 5*sqrt(6)*atan(sqrt(6)*x/2)/6\ntime      : 0.0\n\n[129] Timofeev\nintegrand : sin(x/4)*sin(x)\nantideriv : 2*sin(3*x/4)/3 - 2*sin(5*x/4)/5\nsympy     :"
      },
      {
       "output_type": "stream",
       "stream": "stdout",
       "text": " -16*sin(x/4)*cos(x)/15 + 4*sin(x)*cos(x/4)/15\ntime      : 1.0\n\n[130] Timofeev\nintegrand : cos(3*x)*cos(4*x)\nantideriv : sin(x)/2 + sin(7*x)/14\nsympy     :"
      },
      {
       "output_type": "stream",
       "stream": "stdout",
       "text": " -3*sin(3*x)*cos(4*x)/7 + 4*sin(4*x)*cos(3*x)/7\ncomment   : Solution is messy.\ntime      : 1.0\n\n[131] Timofeev\nintegrand : tan(x)*tan(a - x)\nantideriv : -x + log(tan(a)*tan(x) + 1)/tan(a)\nsympy     :"
      },
      {
       "output_type": "stream",
       "stream": "stdout",
       "text": " Integral(tan(x)*tan(a - x), x)\ncomment   : Unevaluated or not an elementary solution!\ntime      : 2.0\n\n[132] Timofeev\nintegrand : sin(x)**2\nantideriv : x/2 - sin(x)*cos(x)/2\nsympy     : x/2 - sin(x)*cos(x)/2\ntime      : 0.0\n\n[133] Timofeev\nintegrand : cos(x)**2\nantideriv : x/2 + sin(x)*cos(x)/2\nsympy     :"
      },
      {
       "output_type": "stream",
       "stream": "stdout",
       "text": " x/2 + sin(x)*cos(x)/2\ntime      : 0.0\n\n[134] Timofeev\nintegrand : sin(x)*cos(x)**3\nantideriv : -cos(x)**4/4\nsympy     : -cos(x)**4/4\ntime      : 0.0\n\n[135] Timofeev\nintegrand : cos(x)**3/sin(x)**4\nantideriv : 1/sin(x) - 1/(3*sin(x)**3)\nsympy     :"
      },
      {
       "output_type": "stream",
       "stream": "stdout",
       "text": " (3*sin(x)**2 - 1)/(3*sin(x)**3)\ntime      :"
      },
      {
       "output_type": "stream",
       "stream": "stdout",
       "text": " 0.0\n\n[136] Timofeev\nintegrand : 1/(sin(x)**2*cos(x)**2)\nantideriv : tan(x) - cot(x)\nsympy     : -2*cos(2*x)/sin(2*x)\ncomment   : Diffs not back to zero. (Check use of abs.)"
      },
      {
       "output_type": "stream",
       "stream": "stdout",
       "text": "\ntime      : 0.0\n\n[137] Timofeev\nintegrand : cot(3*x/4)**2\nantideriv : -x - 4*cot(3*x/4)/3\nsympy     : -x - 4*cos(3*x/4)/(3*sin(3*x/4))\ncomment   : Diffs not back to zero. (Check use of abs.)"
      },
      {
       "output_type": "stream",
       "stream": "stdout",
       "text": "\ntime      : 0.0\n\n[138] Timofeev\nintegrand : (tan(2*x) + 1)**2\nantideriv : -log(cos(2*x)) + tan(2*x)/2\nsympy     :"
      },
      {
       "output_type": "stream",
       "stream": "stdout",
       "text": " log(tan(2*x)**2 + 1)/2 + tan(2*x)/2\ntime      : 0.0\n\n[139] Timofeev\nintegrand : (tan(x) - cot(x))**2\nantideriv : -4*x + tan(x) - cot(x)\nsympy     :"
      },
      {
       "output_type": "stream",
       "stream": "stdout",
       "text": " -4*x + tan(x) - 1/tan(x)\ncomment   : Diffs not back to zero. (Check use of abs.)"
      },
      {
       "output_type": "stream",
       "stream": "stdout",
       "text": "\ntime      : 1.0\n\n[140] Timofeev\nintegrand : (-sec(x) + tan(x))**2\nantideriv : -x - 2*cot(x/2 + pi/4)\nsympy     :"
      },
      {
       "output_type": "stream",
       "stream": "stdout",
       "text": " -x + 2*sin(x)/cos(x) - 2/cos(x)\ncomment   : Diffs not back to zero. (Check use of abs.)"
      },
      {
       "output_type": "stream",
       "stream": "stdout",
       "text": "\ntime      : 5.0\n\n[141] Timofeev\nintegrand : sin(x)/(sin(x) + 1)\nantideriv : x + cot(x/2 + pi/4)\nsympy     :"
      },
      {
       "output_type": "stream",
       "stream": "stdout",
       "text": " x*tan(x/2)/(tan(x/2) + 1) + x/(tan(x/2) + 1) + 2/(tan(x/2) + 1)\ncomment   : Solution is messy."
      },
      {
       "output_type": "stream",
       "stream": "stdout",
       "text": "\ncomment   : Diffs not back to zero. (Check use of abs.)\ntime      : 4.0\n\n[142] Timofeev\nintegrand : cos(x)/(-cos(x) + 1)\nantideriv : -x - cot(x/2)\nsympy     :"
      },
      {
       "output_type": "stream",
       "stream": "stdout",
       "text": " -x - 1/tan(x/2)\ncomment   : Diffs not back to zero. (Check use of abs.)"
      },
      {
       "output_type": "stream",
       "stream": "stdout",
       "text": "\ntime      : 1.0\n\n[143] Timofeev\nintegrand : (exp(x/2) - 1)**3*exp(-x/2)\nantideriv : 3*x - 6*exp(x/2) + exp(x) + 2*exp(-x/2)\nsympy     :"
      },
      {
       "output_type": "stream",
       "stream": "stdout",
       "text": " 3*x - 6*exp(x/2) + exp(x) + 2*exp(-x/2)\ntime      : 1.0\n\n[144] Timofeev\nintegrand : 1/(x**2 - 6*x + 5)\nantideriv : log((x - 5)/(x - 1))/4\nsympy     : log(x - 5)/4 - log(x - 1)/4\ntime      :"
      },
      {
       "output_type": "stream",
       "stream": "stdout",
       "text": " 0.0\n\n[145] Timofeev\nintegrand : x**2/(x**6 - 6*x**3 + 13)\nantideriv : atan(x**3/2 - 3/2)/6\nsympy     :"
      },
      {
       "output_type": "stream",
       "stream": "stdout",
       "text": " atan(x**3/2 - 3/2)/6\ntime      : 0.0\n\n[146] Timofeev\nintegrand : (x + 2)/(x**2 - 4*x - 1)\nantideriv : log(-x**2 + 4*x + 1)/2 + 4*sqrt(5)*atanh(sqrt(5)*(-x + 2)/5)/5\nsympy     :"
      },
      {
       "output_type": "stream",
       "stream": "stdout",
       "text": " (-2*sqrt(5)/5 + 1/2)*log(x - 2 + sqrt(5)) + (1/2 + 2*sqrt(5)/5)*log(x - sqrt(5) - 2)\ntime      :"
      },
      {
       "output_type": "stream",
       "stream": "stdout",
       "text": " 0.0\n\n[147] Timofeev\nintegrand : 1/((x + 1)**(1/3) + 1)\nantideriv : 3*(x + 1)**(2/3)/2 - 3*(x + 1)**(1/3) + 3*log((x + 1)**(1/3) + 1)\nsympy     :"
      },
      {
       "output_type": "stream",
       "stream": "stdout",
       "text": " 3*(x + 1)**(2/3)/2 - 3*(x + 1)**(1/3) + 3*log((x + 1)**(1/3) + 1)\ntime      : 0.0\n\n[148] Timofeev\nintegrand : 1/(sqrt(x)*(a*x + b))\nantideriv : 2*atan(sqrt(a)*sqrt(x)/sqrt(b))/(sqrt(a)*sqrt(b))\nsympy     :"
      },
      {
       "output_type": "stream",
       "stream": "stdout",
       "text": " Piecewise((2*I*acosh(sqrt(b)/(sqrt(a)*sqrt(x + b/a)))/(sqrt(a)*sqrt(b)), Abs(b/(a*(x + b/a))) > 1), (-2*asin(sqrt(b)/(sqrt(a)*sqrt(x + b/a)))/(sqrt(a)*sqrt(b)), True))\ncomment   : Solution is messy."
      },
      {
       "output_type": "stream",
       "stream": "stdout",
       "text": "\ncomment   : Not a real solution!\ncomment   : Not a continous solution!\ncomment   : Diffs not back to zero. (Check use of abs.)\ntime      : 1.0\n\n[149] Timofeev\nintegrand : x**3*sqrt(x**2 + 1)\nantideriv : sqrt(x**2 + 1)*(x**4/5 + x**2/15 - 2/15)\nsympy     :"
      },
      {
       "output_type": "stream",
       "stream": "stdout",
       "text": " x**4*sqrt(x**2 + 1)/5 + x**2*sqrt(x**2 + 1)/15 - 2*sqrt(x**2 + 1)/15\ntime      : 1.0\n\n[150] Timofeev\nintegrand : x/sqrt(a**4 - x**4)\nantideriv : 0.5*atan(x**2/sqrt(a**4 - x**4))\nsympy     :"
      },
      {
       "output_type": "stream",
       "stream": "stdout",
       "text": " Piecewise((-I*acosh(x**2/a**2)/2, Abs(x**4/a**4) > 1), (asin(x**2/a**2)/2, True))\ncomment   : Solution is messy."
      },
      {
       "output_type": "stream",
       "stream": "stdout",
       "text": "\ncomment   : Not a real solution!\ncomment   : Not a continous solution!\ncomment   : Diffs not back to zero. (Check use of abs.)\ntime      : 0.0\n\n[151] Timofeev\nintegrand : 1/(x*sqrt(-a**2 + x**2))\nantideriv : atan(sqrt(-a**2 + x**2)/a)/a\nsympy     :"
      },
      {
       "output_type": "stream",
       "stream": "stdout",
       "text": " Piecewise((I*acosh(a/x)/a, Abs(a**2/x**2) > 1), (-asin(a/x)/a, True))\ncomment   : Solution is messy."
      },
      {
       "output_type": "stream",
       "stream": "stdout",
       "text": "\ncomment   : Not a real solution!\ncomment   : Not a continous solution!\ncomment   : Diffs not back to zero. (Check use of abs.)\ntime      : 0.0\n\n[152] Timofeev\nintegrand : 1/(x*sqrt(a**2 - x**2))\nantideriv : -atanh(sqrt(a**2 - x**2)/a)/a\nsympy     :"
      },
      {
       "output_type": "stream",
       "stream": "stdout",
       "text": " Piecewise((-acosh(a/x)/a, Abs(a**2/x**2) > 1), (I*asin(a/x)/a, True))\ncomment   : Solution is messy."
      },
      {
       "output_type": "stream",
       "stream": "stdout",
       "text": "\ncomment   : Not a real solution!\ncomment   : Not a continous solution!\ncomment   : Diffs not back to zero. (Check use of abs.)\ntime      : 0.0\n\n[153] Timofeev\nintegrand : 1/(x*sqrt(a**2 + x**2))\nantideriv : -atanh(a/sqrt(a**2 + x**2))/a\nsympy     :"
      },
      {
       "output_type": "stream",
       "stream": "stdout",
       "text": " -asinh(a/x)/a\ncomment   : Diffs not back to zero. (Check use of abs.)\ntime      : 0.0\n\n[154] Timofeev\nintegrand : 1/sqrt(-x**2 + x + 2)\nantideriv : asin(2*x/3 - 1/3)"
      },
      {
       "output_type": "stream",
       "stream": "stdout",
       "text": "\nsympy     :"
      },
      {
       "output_type": "stream",
       "stream": "stdout",
       "text": " Integral(1/sqrt(-x**2 + x + 2), x)\ncomment   : Unevaluated or not an elementary solution!\ntime      : 0.0\n\n[155] Timofeev\nintegrand : 1/sqrt(3*x**2 - 4*x + 5)\nantideriv : sqrt(3)*asinh(sqrt(11)*(3*x - 2)/11)/3\nsympy     :"
      },
      {
       "output_type": "stream",
       "stream": "stdout",
       "text": " Integral(1/sqrt(3*x**2 - 4*x + 5), x)\ncomment   : Unevaluated or not an elementary solution!\ntime      : 0.0\n\n[156] Timofeev\nintegrand : 1/sqrt(-x**2 + x)\nantideriv : asin(2*x - 1)\nsympy     :"
      },
      {
       "output_type": "stream",
       "stream": "stdout",
       "text": " Integral(1/sqrt(-x**2 + x), x)\ncomment   : Solution is messy.\ncomment   : Unevaluated or not an elementary solution!\ntime      : 0.0\n\n[157] Timofeev\nintegrand : (2*x + 1)/sqrt(-x**2 + x + 2)\nantideriv : -2*sqrt(-x**2 + x + 2) + 2*asin(2*x/3 - 1/3)\nsympy     :"
      },
      {
       "output_type": "stream",
       "stream": "stdout",
       "text": " Integral((2*x + 1)/sqrt(-x**2 + x + 2), x)\ncomment   : Unevaluated or not an elementary solution!\ntime      : 0.0\n\n[158] Timofeev\nintegrand : 1/(x*sqrt(-x**2 + x + 2))\nantideriv : -sqrt(2)*atanh(2*sqrt(2)*sqrt(-x**2 + x + 2)/(x + 4))/2\nsympy     :"
      },
      {
       "output_type": "stream",
       "stream": "stdout",
       "text": " Integral(1/(x*sqrt(-x**2 + x + 2)), x)\ncomment   : Unevaluated or not an elementary solution!\ntime      : 0.0\n\n[159] Timofeev\nintegrand : (-x**2 + x + 2)**(-0.5)/(x - 2)\nantideriv : 2*(-x**2 + x + 2)**0.5/(3*x - 6)\nsympy     :"
      },
      {
       "output_type": "stream",
       "stream": "stdout",
       "text": " Integral((-x**2 + x + 2)**(-0.5)/(x - 2), x)\ncomment   : Unevaluated or not an elementary solution!\ntime      : 1.0\n\n[160] Timofeev\nintegrand : (3*sin(x) + 2)/((-cos(x) + 1)*sin(x))\nantideriv : (3*sin(x) + 1)/(cos(x) - 1) - atanh(cos(x))\nsympy     :"
      },
      {
       "output_type": "stream",
       "stream": "stdout",
       "text": " log(tan(x/2)) - 3/tan(x/2) - 1/(2*tan(x/2)**2)\ncomment   : Diffs not back to zero. (Check use of abs.)"
      },
      {
       "output_type": "stream",
       "stream": "stdout",
       "text": "\ntime      : 3.0\n\n[161] Timofeev\nintegrand : 1/(3*cos(x)**2 + 2)\nantideriv : sqrt(10)*(x - atan(3*sin(x)*cos(x)/(3*cos(x)**2 + 2 + sqrt(10))))/10\nintegrator: ValueError:"
      },
      {
       "output_type": "stream",
       "stream": "stdout",
       "text": " logarithm of a negative number\ncomment   : Additional constraints? Assume? \n\n[162] Timofeev\nintegrand : (-tan(x) + 1)/sin(2*x)\nantideriv : log(tan(x))/2 - tan(x)/2\nsympy     :"
      },
      {
       "output_type": "stream",
       "stream": "stdout",
       "text": " Integral((-tan(x) + 1)/sin(2*x), x)\ncomment   : Unevaluated or not an elementary solution!\ntime      : 1.0\n\n[163] Timofeev\nintegrand : (tan(x)**2 + 1)/(-tan(x)**2 + 1)\nantideriv : 0.5*log((tan(x) + 1)/(-tan(x) + 1))\nsympy     :"
      },
      {
       "output_type": "stream",
       "stream": "stdout",
       "text": " -log(tan(x) - 1)/2 + log(tan(x) + 1)/2\ntime      : 0.0\n\n[164] Timofeev\nintegrand : (a**2 - 4*cos(x)**2)**(3/4)*sin(2*x)\nantideriv : (a**2 - 4*cos(x)**2)**(7/4)/7\nintegrator: RuntimeError"
      },
      {
       "output_type": "stream",
       "stream": "stdout",
       "text": " maximum recursion depth exceeded while calling a Python object\n\n[165]"
      },
      {
       "output_type": "stream",
       "stream": "stdout",
       "text": " Timofeev\nintegrand : sin(2*x)/(a**2 - 4*sin(x)**2)**(1/3)"
      },
      {
       "output_type": "stream",
       "stream": "stdout",
       "text": "\nantideriv : -3*(a**2 - 4*sin(x)**2)**(2/3)/8\nsympy     :"
      },
      {
       "output_type": "stream",
       "stream": "stdout",
       "text": " Integral(sin(2*x)/(a**2 - 4*sin(x)**2)**(1/3), x)\ncomment   : Unevaluated or not an elementary solution!\ntime      : 3.0\n\n[166] Timofeev\nintegrand : 1/sqrt(a**(2*x) - 1)\nantideriv : atan(sqrt(a**(2*x) - 1))/log(a)\nsympy     :"
      },
      {
       "output_type": "stream",
       "stream": "stdout",
       "text": " Integral(1/sqrt(a**(2*x) - 1), x)\ncomment   : Unevaluated or not an elementary solution!\ntime      : 0.0\n\n[167] Timofeev\nintegrand : exp(x/2)/sqrt(exp(x) - 1)\nantideriv : 2*log(sqrt(exp(x) - 1) + exp(x/2))\nsympy     :"
      },
      {
       "output_type": "stream",
       "stream": "stdout",
       "text": " Integral(exp(x/2)/sqrt(exp(x) - 1), x)\ncomment   : Unevaluated or not an elementary solution!\ntime      : 0.0\n\n[168] Timofeev\nintegrand : atan(x)**n/(x**2 + 1)\nantideriv : atan(x)**(n + 1)/(n + 1)\nsympy     :"
      },
      {
       "output_type": "stream",
       "stream": "stdout",
       "text": " Integral(atan(x)**n/(x**2 + 1), x)\ncomment   : Unevaluated or not an elementary solution!\ntime      : 101.0\nYou are wasting my time!\n\n[169] Timofeev\nintegrand : asin(x/a)**(3/2)/sqrt(a**2 - x**2)\nantideriv : 2*a*sqrt(1 - x**2/a**2)*asin(x/a)**(5/2)/(5*sqrt(a**2 - x**2))\nsympy     :"
      },
      {
       "output_type": "stream",
       "stream": "stdout",
       "text": " 0\ncomment   : Diffs not back to zero. (Check use of abs.)\ntime      : 149.0\nYou are wasting my time!\n\n[170] Timofeev\nintegrand : 1/(sqrt(-x**2 + 1)*acos(x)**3)\nantideriv : 0.5/acos(x)**2"
      },
      {
       "output_type": "stream",
       "stream": "stdout",
       "text": "\nsympy     :"
      },
      {
       "output_type": "stream",
       "stream": "stdout",
       "text": " 1/(2*acos(x)**2)\ntime      : 7.0\n\n[171] Timofeev\nintegrand : x*log(x)**2\nantideriv : x**2*(log(x)**2 - log(x) + 1/2)/2\nsympy     :"
      },
      {
       "output_type": "stream",
       "stream": "stdout",
       "text": " x**2*log(x)**2/2 - x**2*log(x)/2 + x**2/4\ntime      : 0.0\n\n[172] Timofeev\nintegrand : log(x)/x**5\nantideriv : (-log(x)/4 - 1/16)/x**4\nsympy     :"
      },
      {
       "output_type": "stream",
       "stream": "stdout",
       "text": " -log(x)/(4*x**4) - 1/(16*x**4)\ntime      : 0.0\n\n[173] Timofeev\nintegrand : x**2*log((x - 1)/x)\nantideriv : x**3*log((x - 1)/x)/3 - x*(x + 2)/6 - log(x - 1)/3\nsympy     :"
      },
      {
       "output_type": "stream",
       "stream": "stdout",
       "text": " x**3*log(1 - 1/x)/3 - x**2/6 - x/3 - log(x - 1)/3\ntime      : 1.0\n\n[174] Timofeev\nintegrand : cos(x)**5\nantideriv : (3*cos(x)**4 + 4*cos(x)**2 + 8)*sin(x)/15\nsympy     :"
      },
      {
       "output_type": "stream",
       "stream": "stdout",
       "text": " sin(x)**5/5 - 2*sin(x)**3/3 + sin(x)\ncomment   : Diffs not back to zero. (Check use of abs.)"
      },
      {
       "output_type": "stream",
       "stream": "stdout",
       "text": "\ntime      : 0.0\n\n[175] Timofeev\nintegrand : sin(x)**2*cos(x)**4\nantideriv : x/16 + sin(x)**3*cos(x)**3/6 + sin(x)**3*cos(x)/8 - sin(x)*cos(x)/16\nsympy     :"
      },
      {
       "output_type": "stream",
       "stream": "stdout",
       "text": " x/16 - sin(x)*cos(x)**5/6 + sin(x)*cos(x)**3/24 + sin(x)*cos(x)/16\ntime      :"
      },
      {
       "output_type": "stream",
       "stream": "stdout",
       "text": " 0.0\n\n[176] Timofeev\nintegrand : sin(x)**(-5)\nantideriv : -3*atanh(cos(x))/8 - 3*cos(x)/(8*sin(x)**2) - cos(x)/(4*sin(x)**4)\nsympy     :"
      },
      {
       "output_type": "stream",
       "stream": "stdout",
       "text": " (3*cos(x)**3 - 5*cos(x))/(8*cos(x)**4 - 16*cos(x)**2 + 8) + 3*log(cos(x) - 1)/16 - 3*log(cos(x) + 1)/16\ncomment   : Diffs not back to zero. (Check use of abs.)"
      },
      {
       "output_type": "stream",
       "stream": "stdout",
       "text": "\ntime      : 0.0\n\n[177] Timofeev\nintegrand : exp(-x)*sin(x)\nantideriv : (-sin(x)/2 - cos(x)/2)*exp(-x)\nsympy     :"
      },
      {
       "output_type": "stream",
       "stream": "stdout",
       "text": " -exp(-x)*sin(x)/2 - exp(-x)*cos(x)/2\ntime      : 0.0\n\n[178] Timofeev\nintegrand : exp(2*x)*sin(3*x)\nantideriv : (2*sin(3*x) - 3*cos(3*x))*exp(2*x)/13\nsympy     :"
      },
      {
       "output_type": "stream",
       "stream": "stdout",
       "text": " 2*exp(2*x)*sin(3*x)/13 - 3*exp(2*x)*cos(3*x)/13\ntime      : 0.0\n\n[179] Timofeev\nintegrand : a**x*cos(x)\nantideriv : a**x*(log(a)*cos(x) + sin(x))/(log(a)**2 + 1)\nsympy     :"
      },
      {
       "output_type": "stream",
       "stream": "stdout",
       "text": " a**x*log(a)*cos(x)/(log(a)**2 + 1) + a**x*sin(x)/(log(a)**2 + 1)\ntime      : 1.0\n\n[180] Timofeev\nintegrand : cos(log(x))\nantideriv : x*(sin(log(x)) + cos(log(x)))/2\nsympy     :"
      },
      {
       "output_type": "stream",
       "stream": "stdout",
       "text": " x*sin(log(x))/2 + x*cos(log(x))/2\ntime      : 0.0\n\n[181] Timofeev\nintegrand : sec(x)**2*log(cos(x))\nantideriv : -x + log(cos(x))*tan(x) + tan(x)\nsympy     :"
      },
      {
       "output_type": "stream",
       "stream": "stdout",
       "text": " Integral(sec(x)**2*log(cos(x)), x)"
      },
      {
       "output_type": "stream",
       "stream": "stdout",
       "text": "\ncomment   : Unevaluated or not an elementary solution!"
      },
      {
       "output_type": "stream",
       "stream": "stdout",
       "text": "\ntime      : 2809.0\nYou are wasting my time!\n\n[182] Timofeev\nintegrand : "
      },
      {
       "output_type": "stream",
       "stream": "stdout",
       "text": "x*tan(x)**2\nantideriv : -x**2/2 + x*tan(x) + log(cos(x))"
      },
      {
       "output_type": "stream",
       "stream": "stdout",
       "text": "\nsympy     :"
      },
      {
       "output_type": "stream",
       "stream": "stdout",
       "text": " -x**2/2 + x*tan(x) - log(tan(x)**2 + 1)/2\ntime      :"
      },
      {
       "output_type": "stream",
       "stream": "stdout",
       "text": " 5.0\n\n[183] Timofeev\nintegrand : asin(x)/x**2\nantideriv : -atanh(sqrt(-x**2 + 1)) - asin(x)/x\nsympy     :"
      },
      {
       "output_type": "stream",
       "stream": "stdout",
       "text": " Integral(asin(x)/x**2, x)\ncomment   : Unevaluated or not an elementary solution!\ntime      : 1.0\n\n[184] Timofeev\nintegrand : asin(x)**2\nantideriv : x*asin(x)**2 - 2*x + 2*sqrt(-x**2 + 1)*asin(x)\nsympy     :"
      },
      {
       "output_type": "stream",
       "stream": "stdout",
       "text": " x*asin(x)**2 - 2*x + 2*sqrt(-x**2 + 1)*asin(x)\ntime      : 1.0\n\n[185] Timofeev\nintegrand : x**2*atan(x)/(x**2 + 1)\nantideriv : x*atan(x) - log(x**2 + 1)/2 - atan(x)**2/2\nsympy     :"
      },
      {
       "output_type": "stream",
       "stream": "stdout",
       "text": " x*atan(x) - log(x**2 + 1)/2 - atan(x)**2/2\ntime      : 4.0\n\n[186] Timofeev\nintegrand : acos(sqrt(x/(x + 1)))\nantideriv : (x + 1)*(sqrt(x/(x + 1))*(1/(x + 1))**0.5 + acos(sqrt(x/(x + 1))))"
      },
      {
       "output_type": "stream",
       "stream": "stdout",
       "text": "\nsympy     :"
      },
      {
       "output_type": "stream",
       "stream": "stdout",
       "text": " Integral(acos(sqrt(x/(x + 1))), x)\ncomment   : Unevaluated or not an elementary solution!\ntime      : 239.0\nYou are wasting my time!\n\n[701] Timofeev\nintegrand : x**2*cos(x)**5\nantideriv : 5*x*cos(x)/4 + 5*x*cos(3*x)/72 + x*cos(5*x)/200 + (x**2/80 - 1/1000)*sin(5*x) + (5*x**2/48 - 5/216)*sin(3*x) + (5*x**2/8 - 5/4)*sin(x)"
      },
      {
       "output_type": "stream",
       "stream": "stdout",
       "text": "\nsympy     :"
      },
      {
       "output_type": "stream",
       "stream": "stdout",
       "text": " 8*x**2*sin(x)**5/15 + 4*x**2*sin(x)**3*cos(x)**2/3 + x**2*sin(x)*cos(x)**4 + 16*x*sin(x)**4*cos(x)/15 + 104*x*sin(x)**2*cos(x)**3/45 + 298*x*cos(x)**5/225 - 4144*sin(x)**5/3375 - 1712*sin(x)**3*cos(x)**2/675 - 298*sin(x)*cos(x)**4/225\ntime      : 9.0\n\n[702] Timofeev\nintegrand : x**3*sin(x)**3\nantideriv : -(x**2/12 - 1/54)*sin(3*x) + (9*x**2/4 - 9/2)*sin(x) + (x**3/12 - x/18)*cos(3*x) - (3*x**3/4 - 9*x/2)*cos(x)"
      },
      {
       "output_type": "stream",
       "stream": "stdout",
       "text": "\nsympy     :"
      },
      {
       "output_type": "stream",
       "stream": "stdout",
       "text": " -x**3*sin(x)**2*cos(x) - 2*x**3*cos(x)**3/3 + 7*x**2*sin(x)**3/3 + 2*x**2*sin(x)*cos(x)**2 + 14*x*sin(x)**2*cos(x)/3 + 40*x*cos(x)**3/9 - 122*sin(x)**3/27 - 40*sin(x)*cos(x)**2/9\ntime      : 4.0\n\n[703] Timofeev\nintegrand : x**2*sin(x)**6\nantideriv : 5*x**3/48 - 15*x*cos(2*x)/64 + 3*x*cos(4*x)/128 - x*cos(6*x)/576 - (0.00520833333333333*x**2 - 0.000289351851851852)*sin(6*x) + (3*x**2/64 - 3/512)*sin(4*x) - (15*x**2/64 - 15/128)*sin(2*x)"
      },
      {
       "output_type": "stream",
       "stream": "stdout",
       "text": "\nsympy     :"
      },
      {
       "output_type": "stream",
       "stream": "stdout",
       "text": " 5*x**3*sin(x)**6/48 + 5*x**3*sin(x)**4*cos(x)**2/16 + 5*x**3*sin(x)**2*cos(x)**4/16 + 5*x**3*cos(x)**6/48 - 11*x**2*sin(x)**5*cos(x)/16 - 5*x**2*sin(x)**3*cos(x)**3/6 - 5*x**2*sin(x)*cos(x)**5/16 + 299*x*sin(x)**6/1152 + 35*x*sin(x)**4*cos(x)**2/384 - 125*x*sin(x)**2*cos(x)**4/384 - 245*x*cos(x)**6/1152 + 299*sin(x)**5*cos(x)/1152 + 25*sin(x)**3*cos(x)**3/54 + 245*sin(x)*cos(x)**5/1152"
      },
      {
       "output_type": "stream",
       "stream": "stdout",
       "text": "\ncomment   : Solution is messy.\ntime      : 17.0\n\n[704] Timofeev\nintegrand : x**2*sin(x)**2*cos(x)\nantideriv : x**2*sin(x)**3/3 + x*cos(x)/2 - x*cos(3*x)/18 - sin(x)/2 + sin(3*x)/54\nsympy     :"
      },
      {
       "output_type": "stream",
       "stream": "stdout",
       "text": " x**2*sin(x)**3/3 + 2*x*sin(x)**2*cos(x)/3 + 4*x*cos(x)**3/9 - 14*sin(x)**3/27 - 4*sin(x)*cos(x)**2/9\ntime      : 2.0\n\n[705] Timofeev\nintegrand : x*cos(x)**4/sin(x)**2\nantideriv : -3*x**2/4 - x*(sin(x)/2 + 1/sin(x))*cos(x) + log(sin(x)) + sin(x)**2/4\nsympy     :"
      },
      {
       "output_type": "stream",
       "stream": "stdout",
       "text": " -3*x**2*tan(x/2)**5/(4*tan(x/2)**5 + 8*tan(x/2)**3 + 4*tan(x/2)) - 6*x**2*tan(x/2)**3/(4*tan(x/2)**5 + 8*tan(x/2)**3 + 4*tan(x/2)) - 3*x**2*tan(x/2)/(4*tan(x/2)**5 + 8*tan(x/2)**3 + 4*tan(x/2)) + 2*x*tan(x/2)**6/(4*tan(x/2)**5 + 8*tan(x/2)**3 + 4*tan(x/2)) + 6*x*tan(x/2)**4/(4*tan(x/2)**5 + 8*tan(x/2)**3 + 4*tan(x/2)) - 6*x*tan(x/2)**2/(4*tan(x/2)**5 + 8*tan(x/2)**3 + 4*tan(x/2)) - 2*x/(4*tan(x/2)**5 + 8*tan(x/2)**3 + 4*tan(x/2)) - 2*log(tan(x/2)**4 + 2*tan(x/2)**2 + 1)*tan(x/2)**5/(4*tan(x/2)**5 + 8*tan(x/2)**3 + 4*tan(x/2)) - 4*log(tan(x/2)**4 + 2*tan(x/2)**2 + 1)*tan(x/2)**3/(4*tan(x/2)**5 + 8*tan(x/2)**3 + 4*tan(x/2)) - 2*log(tan(x/2)**4 + 2*tan(x/2)**2 + 1)*tan(x/2)/(4*tan(x/2)**5 + 8*tan(x/2)**3 + 4*tan(x/2)) + 4*log(tan(x/2))*tan(x/2)**5/(4*tan(x/2)**5 + 8*tan(x/2)**3 + 4*tan(x/2)) + 8*log(tan(x/2))*tan(x/2)**3/(4*tan(x/2)**5 + 8*tan(x/2)**3 + 4*tan(x/2)) + 4*log(tan(x/2))*tan(x/2)/(4*tan(x/2)**5 + 8*tan(x/2)**3 + 4*tan(x/2)) + 4*tan(x/2)**3/(4*tan(x/2)**5 + 8*tan(x/2)**3 + 4*tan(x/2))"
      },
      {
       "output_type": "stream",
       "stream": "stdout",
       "text": "\ncomment   : Solution is messy."
      },
      {
       "output_type": "stream",
       "stream": "stdout",
       "text": "\ncomment   : Diffs not back to zero. (Check use of abs.)\ntime      : 23.0\n\n[706] Timofeev\nintegrand : x*sin(x)**3/cos(x)**4\nantideriv : x*(-1/cos(x) + 1/(3*cos(x)**3)) - sin(x)/(6*cos(x)**2) + 5*atanh(sin(x))/6\nsympy     :"
      },
      {
       "output_type": "stream",
       "stream": "stdout",
       "text": " 4*x*tan(x/2)**6/(6*tan(x/2)**6 - 18*tan(x/2)**4 + 18*tan(x/2)**2 - 6) - 12*x*tan(x/2)**4/(6*tan(x/2)**6 - 18*tan(x/2)**4 + 18*tan(x/2)**2 - 6) - 12*x*tan(x/2)**2/(6*tan(x/2)**6 - 18*tan(x/2)**4 + 18*tan(x/2)**2 - 6) + 4*x/(6*tan(x/2)**6 - 18*tan(x/2)**4 + 18*tan(x/2)**2 - 6) - 5*log(tan(x/2) - 1)*tan(x/2)**6/(6*tan(x/2)**6 - 18*tan(x/2)**4 + 18*tan(x/2)**2 - 6) + 15*log(tan(x/2) - 1)*tan(x/2)**4/(6*tan(x/2)**6 - 18*tan(x/2)**4 + 18*tan(x/2)**2 - 6) - 15*log(tan(x/2) - 1)*tan(x/2)**2/(6*tan(x/2)**6 - 18*tan(x/2)**4 + 18*tan(x/2)**2 - 6) + 5*log(tan(x/2) - 1)/(6*tan(x/2)**6 - 18*tan(x/2)**4 + 18*tan(x/2)**2 - 6) + 5*log(tan(x/2) + 1)*tan(x/2)**6/(6*tan(x/2)**6 - 18*tan(x/2)**4 + 18*tan(x/2)**2 - 6) - 15*log(tan(x/2) + 1)*tan(x/2)**4/(6*tan(x/2)**6 - 18*tan(x/2)**4 + 18*tan(x/2)**2 - 6) + 15*log(tan(x/2) + 1)*tan(x/2)**2/(6*tan(x/2)**6 - 18*tan(x/2)**4 + 18*tan(x/2)**2 - 6) - 5*log(tan(x/2) + 1)/(6*tan(x/2)**6 - 18*tan(x/2)**4 + 18*tan(x/2)**2 - 6) - 2*tan(x/2)**5/(6*tan(x/2)**6 - 18*tan(x/2)**4 + 18*tan(x/2)**2 - 6) + 2*tan(x/2)/(6*tan(x/2)**6 - 18*tan(x/2)**4 + 18*tan(x/2)**2 - 6)\ncomment   : Solution is messy."
      },
      {
       "output_type": "stream",
       "stream": "stdout",
       "text": "\ncomment   : Diffs not back to zero. (Check use of abs.)\ntime      : 18.0\n\n[707] Timofeev\nintegrand : x*sin(x)/cos(x)**3\nantideriv : x/(2*cos(x)**2) - tan(x)/2\nsympy     :"
      },
      {
       "output_type": "stream",
       "stream": "stdout",
       "text": " x*tan(x/2)**4/(2*tan(x/2)**4 - 4*tan(x/2)**2 + 2) + 2*x*tan(x/2)**2/(2*tan(x/2)**4 - 4*tan(x/2)**2 + 2) + x/(2*tan(x/2)**4 - 4*tan(x/2)**2 + 2) + 2*tan(x/2)**3/(2*tan(x/2)**4 - 4*tan(x/2)**2 + 2) - 2*tan(x/2)/(2*tan(x/2)**4 - 4*tan(x/2)**2 + 2)\ncomment   : Solution is messy."
      },
      {
       "output_type": "stream",
       "stream": "stdout",
       "text": "\ncomment   : Diffs not back to zero. (Check use of abs.)\ntime      : 6.0\n\n[708] Timofeev\nintegrand : x*sin(x)**3/cos(x)\nantideriv : x*cos(2*x)/4 - sin(2*x)/8 + Integral(x*tan(x), x)\nsympy     :"
      },
      {
       "output_type": "stream",
       "stream": "stdout",
       "text": " Integral(x*sin(x)**3/cos(x), x)\ncomment   : Unevaluated or not an elementary solution!\ntime      : 10.0\n\n[709] Timofeev\nintegrand : x*sin(x)**3/cos(x)**3\nantideriv : x/(2*cos(x)**2) - tan(x)/2 - Integral(x*tan(x), x)\nsympy     :"
      },
      {
       "output_type": "stream",
       "stream": "stdout",
       "text": " Integral(x*sin(x)**3/cos(x)**3, x)\ncomment   : Unevaluated or not an elementary solution!\ntime      : 11.0\n\n[710] Timofeev\nintegrand : (2*x + sin(2*x))/(x*sin(x) + cos(x))**2\nantideriv : -2*cos(x)/(x*sin(x) + cos(x))\nsympy     :"
      },
      {
       "output_type": "stream",
       "stream": "stdout",
       "text": " Integral((2*x + sin(2*x))/(x*sin(x) + cos(x))**2, x)"
      },
      {
       "output_type": "stream",
       "stream": "stdout",
       "text": "\ncomment   : Unevaluated or not an elementary solution!\ntime      : 921.0"
      },
      {
       "output_type": "stream",
       "stream": "stdout",
       "text": "\nYou are wasting my time!\n\n[711] Timofeev\nintegrand : x**2/(x*cos(x) - sin(x))**2"
      },
      {
       "output_type": "stream",
       "stream": "stdout",
       "text": "\nantideriv : (x*sin(x) + cos(x))/(x*cos(x) - sin(x))\nsympy     :"
      },
      {
       "output_type": "stream",
       "stream": "stdout",
       "text": " Integral(x**2/(x*cos(x) - sin(x))**2, x)\ncomment   : Unevaluated or not an elementary solution!\ntime      : 81.0\nYou are wasting my time!\n\n[301] Timofeev\nintegrand : 1/((x - 2)**3*(x + 1)**2)\nantideriv : log((x - 2)/(x + 1))/27 + (2*x**2 - 5*x - 1)/((x - 2)**2*(18*x + 18))"
      },
      {
       "output_type": "stream",
       "stream": "stdout",
       "text": "\nsympy     :"
      },
      {
       "output_type": "stream",
       "stream": "stdout",
       "text": " (2*x**2 - 5*x - 1)/(18*x**3 - 54*x**2 + 72) + log(x - 2)/27 - log(x + 1)/27\ntime      :"
      },
      {
       "output_type": "stream",
       "stream": "stdout",
       "text": " 5.0\n\n[302] Timofeev\nintegrand : 1/((x + 2)**3*(x + 3)**4)\nantideriv : 10*log((x + 2)/(x + 3)) + (60*x**4 + 630*x**3 + 2450*x**2 + 4175*x + 2627)/(6*(x + 2)**2*(x + 3)**3)"
      },
      {
       "output_type": "stream",
       "stream": "stdout",
       "text": "\nsympy     :"
      },
      {
       "output_type": "stream",
       "stream": "stdout",
       "text": " (60*x**4 + 630*x**3 + 2450*x**2 + 4175*x + 2627)/(6*x**5 + 78*x**4 + 402*x**3 + 1026*x**2 + 1296*x + 648) + 10*log(x + 2) - 10*log(x + 3)\ntime      :"
      },
      {
       "output_type": "stream",
       "stream": "stdout",
       "text": " 4.0\n\n[303] Timofeev\nintegrand : x**5/(x + 3)**2\nantideriv : x**4/4 - 2*x**3 + 27*x**2/2 - 108*x + 405*log(x + 3) + 243/(x + 3)\nsympy     :"
      },
      {
       "output_type": "stream",
       "stream": "stdout",
       "text": " x**4/4 - 2*x**3 + 27*x**2/2 - 108*x + 405*log(x + 3) + 243/(x + 3)\ntime      :"
      },
      {
       "output_type": "stream",
       "stream": "stdout",
       "text": " 0.0\n\n[304] Timofeev\nintegrand : x/(2*x**2 + 6*x + 3)\nantideriv : log(-2*x**2 - 6*x - 3)/4 + sqrt(3)*atanh(sqrt(3)*(2*x + 3)/3)/2"
      },
      {
       "output_type": "stream",
       "stream": "stdout",
       "text": "\nsympy     :"
      },
      {
       "output_type": "stream",
       "stream": "stdout",
       "text": " (-sqrt(3)/4 + 1/4)*log(x - sqrt(3)/2 + 3/2) + (1/4 + sqrt(3)/4)*log(x + sqrt(3)/2 + 3/2)"
      },
      {
       "output_type": "stream",
       "stream": "stdout",
       "text": "\ntime      :"
      },
      {
       "output_type": "stream",
       "stream": "stdout",
       "text": " 1.0\n\n[305] Timofeev\nintegrand : (2*x - 3)/(2*x**2 + 6*x + 3)**3\nantideriv : sqrt(3)*atanh(sqrt(3)*(2*x + 3)/3)/3 + (-8*x**3 - 36*x**2 - 44*x - 13)/(4*(2*x**2 + 6*x + 3)**2)\nsympy     :"
      },
      {
       "output_type": "stream",
       "stream": "stdout",
       "text": " -(8*x**3 + 36*x**2 + 44*x + 13)/(16*x**4 + 96*x**3 + 192*x**2 + 144*x + 36) - sqrt(3)*log(x - sqrt(3)/2 + 3/2)/6 + sqrt(3)*log(x + sqrt(3)/2 + 3/2)/6\ntime      :"
      },
      {
       "output_type": "stream",
       "stream": "stdout",
       "text": " 1.0\n\n[306] Timofeev\nintegrand : (x - 1)/(x**2 + 5*x + 4)**2\nantideriv : (7*x + 13)/(9*x**2 + 45*x + 36) + 0.259259259259259*log((x + 1)/(x + 4))"
      },
      {
       "output_type": "stream",
       "stream": "stdout",
       "text": "\nsympy     :"
      },
      {
       "output_type": "stream",
       "stream": "stdout",
       "text": " (7*x + 13)/(9*x**2 + 45*x + 36) + 7*log(x + 1)/27 - 7*log(x + 4)/27\ntime      :"
      },
      {
       "output_type": "stream",
       "stream": "stdout",
       "text": " 1.0\n\n[307] Timofeev\nintegrand : (x**2 + 3*x + 2)**(-5)\nantideriv : (2*x + 3)*(14*x**2/3 + 14*x + 140*(x**2 + 3*x + 2)**3 - 70*(x**2 + 3*x + 2)**2/3 + 25/3)/(4*(x**2 + 3*x + 2)**4) + 70*log((x + 1)/(x + 2))"
      },
      {
       "output_type": "stream",
       "stream": "stdout",
       "text": "\nsympy     :"
      },
      {
       "output_type": "stream",
       "stream": "stdout",
       "text": " (840*x**7 + 8820*x**6 + 38920*x**5 + 93450*x**4 + 131768*x**3 + 109116*x**2 + 49176*x + 9315)/(12*x**8 + 144*x**7 + 744*x**6 + 2160*x**5 + 3852*x**4 + 4320*x**3 + 2976*x**2 + 1152*x + 192) + 70*log(x + 1) - 70*log(x + 2)\ntime      :"
      },
      {
       "output_type": "stream",
       "stream": "stdout",
       "text": " 1.0\n\n[308] Timofeev\nintegrand : 1/(x**3*(2*x**2 - 6*x + 7)**2)\nantideriv : (-18*x + 82)/(3430*x**2 - 10290*x + 12005) + 80*log(x)/2401 - 40*log(2*x**2 - 6*x + 7)/2401 + 234*sqrt(5)*atan(sqrt(5)*(2*x - 3)/5)/60025 - 12/(343*x) - 1/(98*x**2)"
      },
      {
       "output_type": "stream",
       "stream": "stdout",
       "text": "\nsympy     :"
      },
      {
       "output_type": "stream",
       "stream": "stdout",
       "text": " 80*log(x)/2401 - 40*log(x**2 - 3*x + 7/2)/2401 + 234*sqrt(5)*atan(2*sqrt(5)*x/5 - 3*sqrt(5)/5)/60025 - (276*x**3 - 814*x**2 + 630*x + 245)/(6860*x**4 - 20580*x**3 + 24010*x**2)\ntime      :"
      },
      {
       "output_type": "stream",
       "stream": "stdout",
       "text": " 3.0\n\n[309] Timofeev\nintegrand : x**9/(x**2 + 3*x + 2)**5\nantideriv : -1471*log(x + 1) + 1472*log(x + 2) + (-25*x**8 - 35292*x**7 - 369950*x**6 - 1632276*x**5 - 3919731*x**4 - 5527800*x**3 - 4578216*x**2 - 2063520*x - 390960)/(24*(x**2 + 3*x + 2)**4)\nsympy     :"
      },
      {
       "output_type": "stream",
       "stream": "stdout",
       "text": " -(17496*x**7 + 184200*x**6 + 813888*x**5 + 1955853*x**4 + 2759400*x**3 + 2286008*x**2 + 1030560*x + 195280)/(12*x**8 + 144*x**7 + 744*x**6 + 2160*x**5 + 3852*x**4 + 4320*x**3 + 2976*x**2 + 1152*x + 192) - 1471*log(x + 1) + 1472*log(x + 2)\ntime      :"
      },
      {
       "output_type": "stream",
       "stream": "stdout",
       "text": " 2.0\n\n[310] Timofeev\nintegrand : (2*x + 1)**2/(2*x**2 + 5*x + 3)**5\nantideriv : (-10*x - 11)/(4*(2*x**2 + 5*x + 3)**4) + (124*x + 155)*(-20*x**2 - 50*x + 120*(2*x**2 + 5*x + 3)**2 - 29)/(6*(2*x**2 + 5*x + 3)**3) + 2480*log((x + 1)/(2*x + 3))\nsympy     :"
      },
      {
       "output_type": "stream",
       "stream": "stdout",
       "text": " (238080*x**7 + 2083200*x**6 + 7757440*x**5 + 15934000*x**4 + 19495776*x**3 + 14209160*x**2 + 5712464*x + 977397)/(192*x**8 + 1920*x**7 + 8352*x**6 + 20640*x**5 + 31692*x**4 + 30960*x**3 + 18792*x**2 + 6480*x + 972) + 2480*log(x + 1) - 2480*log(x + 3/2)\ntime      :"
      },
      {
       "output_type": "stream",
       "stream": "stdout",
       "text": " 1.0\n\n[311] Timofeev\nintegrand : (a - b*x**2)**3/x**7\nantideriv : -a**3/(6*x**6) + 3*a**2*b/(4*x**4) - 3*a*b**2/(2*x**2) - b**3*log(x)\nsympy     :"
      },
      {
       "output_type": "stream",
       "stream": "stdout",
       "text": " -b**3*log(x) - (2*a**3 - 9*a**2*b*x**2 + 18*a*b**2*x**4)/(12*x**6)\ntime      :"
      },
      {
       "output_type": "stream",
       "stream": "stdout",
       "text": " 1.0\n\n[312] Timofeev\nintegrand : x**13/(a**4 + x**4)**5\nantideriv : x**2*(-15*a**12 - 55*a**8*x**4 - 73*a**4*x**8 + 15*x**12)/(768*a**4*(a**4 + x**4)**4) + 5*atan(x**2/a**2)/(256*a**6)"
      },
      {
       "output_type": "stream",
       "stream": "stdout",
       "text": "\nsympy     :"
      },
      {
       "output_type": "stream",
       "stream": "stdout",
       "text": " -5*sqrt(-1/a**12)*log(-a**8*sqrt(-1/a**12) + x**2)/512 + 5*sqrt(-1/a**12)*log(a**8*sqrt(-1/a**12) + x**2)/512 + (-15*a**12*x**2 - 55*a**8*x**6 - 73*a**4*x**10 + 15*x**14)/(768*a**20 + 3072*a**16*x**4 + 4608*a**12*x**8 + 3072*a**8*x**12 + 768*a**4*x**16)\ncomment   : Solution is messy."
      },
      {
       "output_type": "stream",
       "stream": "stdout",
       "text": "\ntime      : 3.0\n\ntotal time: 5504.0\n"
      }
     ],
     "prompt_number": 4
    },
    {
     "cell_type": "code",
     "collapsed": false,
     "input": "",
     "language": "python",
     "metadata": {},
     "outputs": []
    }
   ],
   "metadata": {}
  }
 ]
}