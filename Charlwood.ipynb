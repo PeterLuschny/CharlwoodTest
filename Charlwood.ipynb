{
 "metadata": {
  "name": "Charlwood"
 },
 "nbformat": 3,
 "nbformat_minor": 0,
 "worksheets": [
  {
   "cells": [
    {
     "cell_type": "raw",
     "metadata": {},
     "source": "http://docs.sympy.org/dev/modules/integrals/integrals.html"
    },
    {
     "cell_type": "code",
     "collapsed": false,
     "input": "from time import clock  \nfrom sympy import *\nfrom __future__ import division\n\nx = Symbol('x')",
     "language": "python",
     "metadata": {},
     "outputs": [],
     "prompt_number": 1
    },
    {
     "cell_type": "code",
     "collapsed": false,
     "input": "def asec(x):\n    return acos(1/x)",
     "language": "python",
     "metadata": {},
     "outputs": [],
     "prompt_number": 2
    },
    {
     "cell_type": "code",
     "collapsed": false,
     "input": "Charlwood = dict()\nCharlwood[ 1] = (asin(x)*log(x),-2*sqrt(1-x**2)+atanh(sqrt(1-x**2))-x*asin(x)*(1-log(x))+sqrt(1-x**2)*log(x))\nCharlwood[ 2] = (x*asin(x)/sqrt(1-x**2),x-sqrt(1-x**2)*asin(x))\nCharlwood[ 3] = (asin(sqrt(x+1)-sqrt(x)),((sqrt(x)+3*sqrt(1+x))*sqrt(-x+sqrt(x)*sqrt(1+x)))/(4*sqrt(2))-(Rational(3,8)+x)*asin(sqrt(x)-sqrt(1+x)))\nCharlwood[ 4] = (log(1+x*sqrt(1+x**2)),-2*x+sqrt(2*(1+sqrt(5)))*atan(sqrt(-2+sqrt(5))*(x+sqrt(1+x**2)))-sqrt(2*(-1+sqrt(5)))*atanh(sqrt(2+sqrt(5))*(x+sqrt(1+x**2)))+x*log(1+x*sqrt(1+x**2)))\nCharlwood[ 5] = (cos(x)**2/sqrt(cos(x)**4+cos(x)**2+1),x/3+Rational(1,3)*atan((cos(x)*(1+cos(x)**2)*sin(x))/(1+cos(x)**2*sqrt(1+cos(x)**2+cos(x)**4))))\nCharlwood[ 6] = (tan(x)*sqrt(1+tan(x)**4),(-Rational(1,2))*asinh(tan(x)**2)-atanh((1-tan(x)**2)/(sqrt(2)*sqrt(1+tan(x)**4)))/sqrt(2)+Rational(1,2)*sqrt(1+tan(x)**4))\nCharlwood[ 7] = (tan(x)/sqrt(1+sec(x)**3),(-Rational(2,3))*atanh(sqrt(1+sec(x)**3)))\nCharlwood[ 8] = (sqrt(tan(x)**2+2*tan(x)+2),asinh(1+tan(x))+sqrt(Rational(1,2)*(1+sqrt(5)))*atan((-sqrt(-1+sqrt(5))+sqrt(1+sqrt(5))*tan(x))/(sqrt(2)*sqrt(2+tan(x)*(2+tan(x)))))-sqrt((1/2)*(-1+sqrt(5)))*atanh((sqrt(1+sqrt(5))+sqrt(-1+sqrt(5))*tan(x))/(sqrt(2)*sqrt(2+tan(x)*(2+tan(x))))))\nCharlwood[ 9] = (sin(x)*atan(sqrt(sec(x)-1)),Rational(1,2)*atan(sqrt(-1+sec(x)))-atan(sqrt(-1+sec(x)))*cos(x)+Rational(1,2)*cos(x)*sqrt(-1+sec(x)))\nCharlwood[10] = (x**3*exp(asin(x))/sqrt(1-x**2),Rational(1,10)*exp(asin(x))*(3*x+x**3-3*sqrt(1-x**2)-3*x**2*sqrt(1-x**2)))\nCharlwood[11] = ((x*log(1+x**2)*log(x+sqrt(1+x**2)))/sqrt(1+x**2),4*x-2*atan(x)-2*sqrt(1+x**2)*log(x+sqrt(1+x**2))+log(1+x**2)*(-x+sqrt(1+x**2)*log(x+sqrt(1+x**2))))\nCharlwood[12] = (atan(x+sqrt(1-x**2)),-(asin(x)/2)+Rational(1,4)*sqrt(3)*atan((-1+sqrt(3)*x)/sqrt(1-x**2))+Rational(1,4)*sqrt(3)*atan((1+sqrt(3)*x)/sqrt(1-x**2))-Rational(1,4)*sqrt(3)*atan((-1+2*x**2)/sqrt(3))+x*atan(x+sqrt(1-x**2))-Rational(1,4)*atanh(x*sqrt(1-x**2))-Rational(1,8)*log(1-x**2+x**4))\nCharlwood[13] = (x*atan(x+sqrt(1-x**2))/sqrt(1-x**2),-(asin(x)/2)+Rational(1,4)*sqrt(3)*atan((-1+sqrt(3)*x)/sqrt(1-x**2))+Rational(1,4)*sqrt(3)*atan((1+sqrt(3)*x)/sqrt(1-x**2))-Rational(1,4)*sqrt(3)*atan((-1+2*x**2)/sqrt(3))-sqrt(1-x**2)*atan(x+sqrt(1-x**2))+Rational(1,4)*atanh(x*sqrt(1-x**2))+Rational(1,8)*log(1-x**2+x**4))\nCharlwood[14] = (asin(x)/(1+sqrt(1-x**2)),((-1+sqrt(1-x**2))*asin(x))/x+asin(x)**2/2-log(1+sqrt(1-x**2)))\nCharlwood[15] = (log(x+sqrt(1+x**2))/(1-x**2)**Rational(3,2),(-Rational(1,2))*asin(x**2)+(x*log(x+sqrt(1+x**2)))/sqrt(1-x**2))\nCharlwood[16] = (asin(x)/(1+x**2)**Rational(3,2),(x*asin(x))/sqrt(1+x**2)-asin(x**2)/2)\nCharlwood[17] = (log(x+sqrt(x**2-1))/(1+x**2)**Rational(3,2),(-Rational(1,2))*acosh(x**2)+(x*log(x+sqrt(-1+x**2)))/sqrt(1+x**2))\nCharlwood[18] = (log(x)/(x**2*sqrt(x**2-1)),sqrt(-1+x**2)/x-atanh(x/sqrt(-1+x**2))+(sqrt(-1+x**2)*log(x))/x)\nCharlwood[19] = (sqrt(1+x**3)/x,(2*sqrt(1+x**3))/3-Rational(2,3)*atanh(sqrt(1+x**3)))\nCharlwood[20] = (x*log(x+sqrt(x**2-1))/sqrt(x**2-1),-x+sqrt(-1+x**2)*log(x+sqrt(-1+x**2)))\nCharlwood[21] = (x**3*(asin(x)/sqrt(1-x**4)),Rational(1,4)*x*sqrt(1+x**2)-Rational(1,2)*sqrt(1-x**4)*asin(x)+asinh(x)/4)\nCharlwood[22] = (x**3*(asec(x)/sqrt(x**4-1)),-(sqrt(-1+x**4)/(2*sqrt(1-1/x**2)*x))+Rational(1,2)*sqrt(-1+x**4)*asec(x)+Rational(1,2)*atanh((sqrt(1-1/x**2)*x)/sqrt(-1+x**4)))\nCharlwood[23] = (x*atan(x)*log(x+sqrt(1+x**2))/sqrt(1+x**2),(-x)*atan(x)+Rational(1,2)*log(1+x**2)+sqrt(1+x**2)*atan(x)*log(x+sqrt(1+x**2))-Rational(1,2)*log(x+sqrt(1+x**2))**2)\nCharlwood[24] = (x*log(1+sqrt(1-x**2))/sqrt(1-x**2),sqrt(1-x**2)-(1+sqrt(1-x**2))*log(1+sqrt(1-x**2)))\nCharlwood[25] = (x*log(x+sqrt(1+x**2))/sqrt(1+x**2),-x+sqrt(1+x**2)*log(x+sqrt(1+x**2)))\nCharlwood[26] = (x*log(x+sqrt(1-x**2))/sqrt(1-x**2),sqrt(1-x**2)+atanh(sqrt(2)*x)/sqrt(2)-atanh(sqrt(2)*sqrt(1-x**2))/sqrt(2)-sqrt(1-x**2)*log(x+sqrt(1-x**2)))\nCharlwood[27] = (log(x)/(x**2*sqrt(1-x**2)),-(sqrt(1-x**2)/x)-asin(x)-(sqrt(1-x**2)*log(x))/x)\nCharlwood[28] = (x*atan(x)/sqrt(1+x**2),-asinh(x)+sqrt(1+x**2)*atan(x))\nCharlwood[29] = (atan(x)/(x**2*sqrt(1-x**2)),-((sqrt(1-x**2)*atan(x))/x)-atanh(sqrt(1-x**2))+sqrt(2)*atanh(sqrt(1-x**2)/sqrt(2)))\nCharlwood[30] = (x*atan(x)/sqrt(1-x**2),-asin(x)-sqrt(1-x**2)*atan(x)+sqrt(2)*atan((sqrt(2)*x)/sqrt(1-x**2)))\nCharlwood[31] = (atan(x)/(x**2*sqrt(1+x**2)),-((sqrt(1+x**2)*atan(x))/x)-atanh(sqrt(1+x**2)))\nCharlwood[32] = (asin(x)/(x**2*sqrt(1-x**2)),-((sqrt(1-x**2)*asin(x))/x)+log(x))\nCharlwood[33] = (x*log(x)/sqrt(x**2-1),-sqrt(-1+x**2)+atan(sqrt(-1+x**2))+sqrt(-1+x**2)*log(x))\nCharlwood[34] = (log(x)/(x**2*sqrt(1+x**2)),-(sqrt(1+x**2)/x)+asinh(x)-(sqrt(1+x**2)*log(x))/x)\nCharlwood[35] = (x*asec(x)/sqrt(x**2-1),sqrt(x**2-1)*asec(x)-(sqrt(1-1/x**2)*x*log(x))/sqrt(x**2-1))\nCharlwood[36] = (x*log(x)/sqrt(1+x**2),-sqrt(1+x**2)+atanh(sqrt(1+x**2))+sqrt(1+x**2)*log(x))\nCharlwood[37] = (sin(x)/(1+sin(x)**2),-(atanh(cos(x)/sqrt(2))/sqrt(2)))\nCharlwood[38] = ((1+x**2)/((1-x**2)*sqrt(1+x**4)),(1/sqrt(2))*atanh(sqrt(2)*(x/sqrt(1+x**4))))\nCharlwood[39] = ((1-x**2)/((1+x**2)*sqrt(1+x**4)),atan((sqrt(2)*x)/sqrt(1+x**4))/sqrt(2))\nCharlwood[40] = (log(sin(x))/(1+sin(x)),-x-atanh(cos(x))-(cos(x)*log(sin(x)))/(1+sin(x)))\nCharlwood[41] = (log(sin(x))*sqrt(1+sin(x)),(4*cos(x))/sqrt(1+sin(x))-(2*cos(x)*log(sin(x)))/sqrt(1+sin(x))-4*atanh(cos(x)/sqrt(1+sin(x))))\nCharlwood[42] = (sec(x)/sqrt(sec(x)**4-1),-(atanh((cos(x)*cot(x)*sqrt(sec(x)**4-1))/sqrt(2))/sqrt(2)))\nCharlwood[43] = (tan(x)/sqrt(1+tan(x)**4),-(atanh((1-tan(x)**2)/(sqrt(2)*sqrt(1+tan(x)**4)))/(2*sqrt(2))))\nCharlwood[44] = (sin(x)/sqrt(1-sin(x)**6),atanh((sqrt(3)*cos(x)*(1+sin(x)**2))/(2*sqrt(1-sin(x)**6)))/(2*sqrt(3)))\nCharlwood[45] = (sqrt(sqrt(sec(x)+1)-sqrt(sec(x)-1)),sqrt(2)*(sqrt(-1+sqrt(2))*atan((sqrt(-2+2*sqrt(2))*(-sqrt(2)-sqrt(-1+sec(x))+sqrt(1+sec(x))))/(2*sqrt(-sqrt(-1+sec(x))+sqrt(1+sec(x)))))-sqrt(1+sqrt(2))*atan((sqrt(2+2*sqrt(2))*(-sqrt(2)-sqrt(-1+sec(x))+sqrt(1+sec(x))))/(2*sqrt(-sqrt(-1+sec(x))+sqrt(1+sec(x)))))-sqrt(1+sqrt(2))*atanh((sqrt(-2+2*sqrt(2))*sqrt(-sqrt(-1+sec(x))+sqrt(1+sec(x))))/(sqrt(2)-sqrt(-1+sec(x))+sqrt(1+sec(x))))+sqrt(-1+sqrt(2))*atanh((sqrt(2+2*sqrt(2))*sqrt(-sqrt(-1+sec(x))+sqrt(1+sec(x))))/(sqrt(2)-sqrt(-1+sec(x))+sqrt(1+sec(x)))))*cot(x)*sqrt(-1+sec(x))*sqrt(1+sec(x)))\nCharlwood[46] = (x*log(x**2+1)*atan(x)**2,(-x)*atan(x)*(-3+log(1+x**2))+Rational(1,4)*(-6+log(1+x**2))*log(1+x**2)+Rational(1,2)*atan(x)**2*(-3-x**2+(1+x**2)*log(1+x**2)))\nCharlwood[47] = (atan(x*sqrt(1+x**2)),Rational(1,2)*atan(sqrt(1+x**2)/x**2)+x*atan(x*sqrt(1+x**2))+Rational(1,2)*sqrt(3)*atanh((sqrt(3)*sqrt(1+x**2))/(2+x**2)))\nCharlwood[48] = (atan(sqrt(x+1)-sqrt(x)),sqrt(x)/2+(1+x)*atan(sqrt(1+x)-sqrt(x)))\nCharlwood[49] = (asin(x/sqrt(1-x**2)),x*asin(x/sqrt(1-x**2))+atan(sqrt(1-2*x**2)))\nCharlwood[50] = (atan(x*sqrt(1-x**2)),x*atan(x*sqrt(1-x**2))-sqrt(Rational(1,2)*(1+sqrt(5)))*atan(sqrt(Rational(1,2)*(1+sqrt(5)))*sqrt(1-x**2))+sqrt(Rational(1,2)*(-1+sqrt(5)))*atanh(sqrt(Rational(1,2)*(-1+sqrt(5)))*sqrt(1-x**2)))\n",
     "language": "python",
     "metadata": {},
     "outputs": [],
     "prompt_number": 3
    },
    {
     "cell_type": "code",
     "collapsed": false,
     "input": "def test(suite, problem):\n    \n    integrand, antideriv = suite[problem]\n    print [problem], \"Charlwood\"\n    print \"integrand :\", integrand \n    print \"antideriv :\", antideriv\n    \n    try:\n        start = clock()  \n        solution = integrate(integrand, x)\n        duration = clock() - start  \n    \n    except RuntimeError, e:\n        print \"integrator: RuntimeError:\", e\n        print \n        return\n    except KeyboardInterrupt:\n        print \"time      :\", round(clock() - start) \n        print \"integrator: Timed out! \\n\"\n        return\n    except AttributeError, e:\n        print \"integrator: AttributeError:\", e\n        print\n        return\n    except ValueError, e: \n        print \"integrator: ValueError:\", e \n        print \"comment   : Additional constraints? Assume? \\n\"\n        return\n    \n    print \"sympy     :\", solution\n          \n    str_solution = str(solution)\n    diffsolution = solution.diff(x) \n    matheq = 0 == simplify((integrand - diffsolution).expand())\n    \n    if len(str_solution) > 2*len(str(antideriv)):\n        print \"comment   : Solution is messy.\"\n            \n    if 'Integral' in str_solution: \n            print \"comment   : Unevaluated or not an elementary solution!\"\n    else:\n        if 'I' in str_solution: \n            print \"comment   : Not a real solution!\"  \n            \n    if 'Piecewise' in str_solution:\n        print \"comment   : Not a continous solution!\"\n    \n    if not matheq:    \n        print \"comment   : Diffs not back to zero. (Check use of abs.)\"\n    \n    print \"time      :\", round(duration)\n    if duration > 60 :\n        print \"You are wasting my time!\"\n    print\n\ndef test_all(suite): \n    start = clock()  \n    for problem in suite.iteritems(): \n        test(suite, problem[0])\n    duration = clock() - start \n    print \"total time:\", round(duration)",
     "language": "python",
     "metadata": {},
     "outputs": []
    },
    {
     "cell_type": "code",
     "collapsed": false,
     "input": "test(Charlwood, 1)",
     "language": "python",
     "metadata": {},
     "outputs": [
      {
       "output_type": "stream",
       "stream": "stdout",
       "text": "[1] Charlwood\nintegrand : log(x)*asin(x)\nantideriv : -x*(-log(x) + 1)*asin(x) + sqrt(-x**2 + 1)*log(x) - 2*sqrt(-x**2 + 1) + atanh(sqrt(-x**2 + 1))\nsympy     :"
      },
      {
       "output_type": "stream",
       "stream": "stdout",
       "text": " Integral(log(x)*asin(x), x)\ncomment   : Unevaluated or not an elementary solution!\ntime      : 9.0\n\n"
      }
     ],
     "prompt_number": 5
    },
    {
     "cell_type": "code",
     "collapsed": false,
     "input": "test(Charlwood, 2)",
     "language": "python",
     "metadata": {},
     "outputs": [
      {
       "output_type": "stream",
       "stream": "stdout",
       "text": "[2] Charlwood\nintegrand : x*asin(x)/sqrt(-x**2 + 1)\nantideriv : x - sqrt(-x**2 + 1)*asin(x)\nsympy     :"
      },
      {
       "output_type": "stream",
       "stream": "stdout",
       "text": " x - sqrt(-x**2 + 1)*asin(x)\ntime      : 0.0\n\n"
      }
     ],
     "prompt_number": 6
    },
    {
     "cell_type": "code",
     "collapsed": false,
     "input": "test(Charlwood, 3)",
     "language": "python",
     "metadata": {},
     "outputs": [
      {
       "output_type": "stream",
       "stream": "stdout",
       "text": "[3] Charlwood\nintegrand : -asin(sqrt(x) - sqrt(x + 1))\nantideriv : sqrt(2)*(sqrt(x) + 3*sqrt(x + 1))*sqrt(sqrt(x)*sqrt(x + 1) - x)/8 - (x + 3/8)*asin(sqrt(x) - sqrt(x + 1))\nsympy     :"
      },
      {
       "output_type": "stream",
       "stream": "stdout",
       "text": " Integral(-asin(sqrt(x) - sqrt(x + 1)), x)\ncomment   : Unevaluated or not an elementary solution!\ntime      : 8.0\n\n"
      }
     ],
     "prompt_number": 7
    },
    {
     "cell_type": "code",
     "collapsed": false,
     "input": "test(Charlwood, 4)",
     "language": "python",
     "metadata": {},
     "outputs": [
      {
       "output_type": "stream",
       "stream": "stdout",
       "text": "[4] Charlwood\nintegrand : log(x*sqrt(x**2 + 1) + 1)\nantideriv : x*log(x*sqrt(x**2 + 1) + 1) - 2*x + sqrt(2 + 2*sqrt(5))*atan(sqrt(-2 + sqrt(5))*(x + sqrt(x**2 + 1))) - sqrt(-2 + 2*sqrt(5))*atanh(sqrt(2 + sqrt(5))*(x + sqrt(x**2 + 1)))\ntime      :"
      },
      {
       "output_type": "stream",
       "stream": "stdout",
       "text": " 75.0\nintegrator: Timed out!\n"
      }
     ],
     "prompt_number": 8
    },
    {
     "cell_type": "code",
     "collapsed": false,
     "input": "test(Charlwood, 5)",
     "language": "python",
     "metadata": {},
     "outputs": [
      {
       "output_type": "stream",
       "stream": "stdout",
       "text": "[5] Charlwood\nintegrand : cos(x)**2/sqrt(cos(x)**4 + cos(x)**2 + 1)\nantideriv : x/3 + atan((cos(x)**2 + 1)*sin(x)*cos(x)/(sqrt(cos(x)**4 + cos(x)**2 + 1)*cos(x)**2 + 1))/3\ntime      :"
      },
      {
       "output_type": "stream",
       "stream": "stdout",
       "text": " 60.0\nintegrator: Timed out!\n"
      }
     ],
     "prompt_number": 9
    },
    {
     "cell_type": "code",
     "collapsed": false,
     "input": "test(Charlwood, 6)",
     "language": "python",
     "metadata": {},
     "outputs": [
      {
       "output_type": "stream",
       "stream": "stdout",
       "text": "[6] Charlwood\nintegrand : sqrt(tan(x)**4 + 1)*tan(x)\nantideriv : sqrt(tan(x)**4 + 1)/2 - asinh(tan(x)**2)/2 - sqrt(2)*atanh(sqrt(2)*(-tan(x)**2 + 1)/(2*sqrt(tan(x)**4 + 1)))/2\nsympy     :"
      },
      {
       "output_type": "stream",
       "stream": "stdout",
       "text": " Integral(sqrt(tan(x)**4 + 1)*tan(x), x)\ncomment   : Unevaluated or not an elementary solution!\ntime      : 1.0\n\n"
      }
     ],
     "prompt_number": 10
    },
    {
     "cell_type": "code",
     "collapsed": false,
     "input": "test(Charlwood, 7)",
     "language": "python",
     "metadata": {},
     "outputs": [
      {
       "output_type": "stream",
       "stream": "stdout",
       "text": "[7] Charlwood\nintegrand : tan(x)/sqrt(sec(x)**3 + 1)\nantideriv : -2*atanh(sqrt(sec(x)**3 + 1))/3\nsympy     :"
      },
      {
       "output_type": "stream",
       "stream": "stdout",
       "text": " Integral(tan(x)/sqrt(sec(x)**3 + 1), x)\ncomment   : Unevaluated or not an elementary solution!\ntime      : 1.0\n\n"
      }
     ],
     "prompt_number": 11
    },
    {
     "cell_type": "code",
     "collapsed": false,
     "input": "test(Charlwood, 8)",
     "language": "python",
     "metadata": {},
     "outputs": [
      {
       "output_type": "stream",
       "stream": "stdout",
       "text": "[8] Charlwood\nintegrand : sqrt(tan(x)**2 + 2*tan(x) + 2)\nantideriv : asinh(tan(x) + 1) + sqrt(1/2 + sqrt(5)/2)*atan(sqrt(2)*(sqrt(1 + sqrt(5))*tan(x) - sqrt(-1 + sqrt(5)))/(2*sqrt((tan(x) + 2)*tan(x) + 2))) - sqrt(-0.5 + 0.5*sqrt(5))*atanh(sqrt(2)*(sqrt(-1 + sqrt(5))*tan(x) + sqrt(1 + sqrt(5)))/(2*sqrt((tan(x) + 2)*tan(x) + 2)))\nsympy     :"
      },
      {
       "output_type": "stream",
       "stream": "stdout",
       "text": " Integral(sqrt(tan(x)**2 + 2*tan(x) + 2), x)\ncomment   : Unevaluated or not an elementary solution!\ntime      : 1.0\n\n"
      }
     ],
     "prompt_number": 12
    },
    {
     "cell_type": "code",
     "collapsed": false,
     "input": "test(Charlwood, 9)",
     "language": "python",
     "metadata": {},
     "outputs": [
      {
       "output_type": "stream",
       "stream": "stdout",
       "text": "[9] Charlwood\nintegrand : sin(x)*atan(sqrt(sec(x) - 1))\nantideriv : sqrt(sec(x) - 1)*cos(x)/2 - cos(x)*atan(sqrt(sec(x) - 1)) + atan(sqrt(sec(x) - 1))/2\ntime      :"
      },
      {
       "output_type": "stream",
       "stream": "stdout",
       "text": " 62.0\nintegrator: Timed out!\n"
      }
     ],
     "prompt_number": 13
    },
    {
     "cell_type": "code",
     "collapsed": false,
     "input": "test(Charlwood, 10)",
     "language": "python",
     "metadata": {},
     "outputs": [
      {
       "output_type": "stream",
       "stream": "stdout",
       "text": "[10] Charlwood\nintegrand : x**3*exp(asin(x))/sqrt(-x**2 + 1)\nantideriv : (x**3 - 3*x**2*sqrt(-x**2 + 1) + 3*x - 3*sqrt(-x**2 + 1))*exp(asin(x))/10\nsympy     :"
      },
      {
       "output_type": "stream",
       "stream": "stdout",
       "text": " x**3*exp(asin(x))/10 - 3*x**2*sqrt(-x**2 + 1)*exp(asin(x))/10 + 3*x*exp(asin(x))/10 - 3*sqrt(-x**2 + 1)*exp(asin(x))/10\ntime      :"
      },
      {
       "output_type": "stream",
       "stream": "stdout",
       "text": " 5.0\n\n"
      }
     ],
     "prompt_number": 14
    },
    {
     "cell_type": "code",
     "collapsed": false,
     "input": "test(Charlwood, 11)",
     "language": "python",
     "metadata": {},
     "outputs": [
      {
       "output_type": "stream",
       "stream": "stdout",
       "text": "[11] Charlwood\nintegrand : x*log(x + sqrt(x**2 + 1))*log(x**2 + 1)/sqrt(x**2 + 1)\nantideriv : 4*x + (-x + sqrt(x**2 + 1)*log(x + sqrt(x**2 + 1)))*log(x**2 + 1) - 2*sqrt(x**2 + 1)*log(x + sqrt(x**2 + 1)) - 2*atan(x)\ntime      :"
      },
      {
       "output_type": "stream",
       "stream": "stdout",
       "text": " 61.0\nintegrator: Timed out!\n"
      }
     ],
     "prompt_number": 15
    },
    {
     "cell_type": "code",
     "collapsed": false,
     "input": "test(Charlwood, 12)",
     "language": "python",
     "metadata": {},
     "outputs": [
      {
       "output_type": "stream",
       "stream": "stdout",
       "text": "[12] Charlwood\nintegrand : atan(x + sqrt(-x**2 + 1))\nantideriv : x*atan(x + sqrt(-x**2 + 1)) - log(x**4 - x**2 + 1)/8 - asin(x)/2 - sqrt(3)*atan(sqrt(3)*(2*x**2 - 1)/3)/4 + sqrt(3)*atan((sqrt(3)*x - 1)/sqrt(-x**2 + 1))/4 + sqrt(3)*atan((sqrt(3)*x + 1)/sqrt(-x**2 + 1))/4 - atanh(x*sqrt(-x**2 + 1))/4\ntime      :"
      },
      {
       "output_type": "stream",
       "stream": "stdout",
       "text": " 70.0\nintegrator: Timed out!\n"
      }
     ],
     "prompt_number": 16
    },
    {
     "cell_type": "code",
     "collapsed": false,
     "input": "test(Charlwood, 13)",
     "language": "python",
     "metadata": {},
     "outputs": [
      {
       "output_type": "stream",
       "stream": "stdout",
       "text": "[13] Charlwood\nintegrand : x*atan(x + sqrt(-x**2 + 1))/sqrt(-x**2 + 1)\nantideriv : -sqrt(-x**2 + 1)*atan(x + sqrt(-x**2 + 1)) + log(x**4 - x**2 + 1)/8 - asin(x)/2 - sqrt(3)*atan(sqrt(3)*(2*x**2 - 1)/3)/4 + sqrt(3)*atan((sqrt(3)*x - 1)/sqrt(-x**2 + 1))/4 + sqrt(3)*atan((sqrt(3)*x + 1)/sqrt(-x**2 + 1))/4 + atanh(x*sqrt(-x**2 + 1))/4\ntime      :"
      },
      {
       "output_type": "stream",
       "stream": "stdout",
       "text": " 63.0\nintegrator: Timed out!\n"
      }
     ],
     "prompt_number": 17
    },
    {
     "cell_type": "code",
     "collapsed": false,
     "input": "test(Charlwood, 14)",
     "language": "python",
     "metadata": {},
     "outputs": [
      {
       "output_type": "stream",
       "stream": "stdout",
       "text": "[14] Charlwood\nintegrand : asin(x)/(sqrt(-x**2 + 1) + 1)\nantideriv : -log(sqrt(-x**2 + 1) + 1) + asin(x)**2/2 + (sqrt(-x**2 + 1) - 1)*asin(x)/x\nsympy     :"
      },
      {
       "output_type": "stream",
       "stream": "stdout",
       "text": " Integral(asin(x)/(sqrt(-x**2 + 1) + 1), x)\ncomment   : Unevaluated or not an elementary solution!\ntime      : 0.0\n\n"
      }
     ],
     "prompt_number": 20
    },
    {
     "cell_type": "code",
     "collapsed": false,
     "input": "test(Charlwood, 15)",
     "language": "python",
     "metadata": {},
     "outputs": [
      {
       "output_type": "stream",
       "stream": "stdout",
       "text": "[15] Charlwood\nintegrand : log(x + sqrt(x**2 + 1))/(-x**2 + 1)**(3/2)\nantideriv : x*log(x + sqrt(x**2 + 1))/sqrt(-x**2 + 1) - asin(x**2)/2\ntime      :"
      },
      {
       "output_type": "stream",
       "stream": "stdout",
       "text": " 63.0\nintegrator: Timed out!\n"
      }
     ],
     "prompt_number": 21
    },
    {
     "cell_type": "code",
     "collapsed": false,
     "input": "test(Charlwood, 16)",
     "language": "python",
     "metadata": {},
     "outputs": [
      {
       "output_type": "stream",
       "stream": "stdout",
       "text": "[16] Charlwood\nintegrand : asin(x)/(x**2 + 1)**(3/2)\nantideriv : x*asin(x)/sqrt(x**2 + 1) - asin(x**2)/2\nsympy     :"
      },
      {
       "output_type": "stream",
       "stream": "stdout",
       "text": " Integral(asin(x)/(x**2 + 1)**(3/2), x)\ncomment   : Unevaluated or not an elementary solution!\ntime      : 48.0\n\n"
      }
     ],
     "prompt_number": 22
    },
    {
     "cell_type": "code",
     "collapsed": false,
     "input": "test(Charlwood, 17)",
     "language": "python",
     "metadata": {},
     "outputs": [
      {
       "output_type": "stream",
       "stream": "stdout",
       "text": "[17] Charlwood\nintegrand : log(x + sqrt(x**2 - 1))/(x**2 + 1)**(3/2)\nantideriv : x*log(x + sqrt(x**2 - 1))/sqrt(x**2 + 1) - acosh(x**2)/2\ntime      :"
      },
      {
       "output_type": "stream",
       "stream": "stdout",
       "text": " 61.0\nintegrator: Timed out!\n"
      }
     ],
     "prompt_number": 23
    },
    {
     "cell_type": "code",
     "collapsed": false,
     "input": "test(Charlwood, 18)",
     "language": "python",
     "metadata": {},
     "outputs": [
      {
       "output_type": "stream",
       "stream": "stdout",
       "text": "[18] Charlwood\nintegrand : log(x)/(x**2*sqrt(x**2 - 1))\nantideriv : -atanh(x/sqrt(x**2 - 1)) + sqrt(x**2 - 1)*log(x)/x + sqrt(x**2 - 1)/x\nsympy     :"
      },
      {
       "output_type": "stream",
       "stream": "stdout",
       "text": " Integral(log(x)/(x**2*sqrt(x**2 - 1)), x)\ncomment   : Unevaluated or not an elementary solution!\ntime      : 41.0\n\n"
      }
     ],
     "prompt_number": 24
    },
    {
     "cell_type": "code",
     "collapsed": false,
     "input": "test(Charlwood, 19)",
     "language": "python",
     "metadata": {},
     "outputs": [
      {
       "output_type": "stream",
       "stream": "stdout",
       "text": "[19] Charlwood\nintegrand : sqrt(x**3 + 1)/x\nantideriv : 2*sqrt(x**3 + 1)/3 - 2*atanh(sqrt(x**3 + 1))/3\nsympy     :"
      },
      {
       "output_type": "stream",
       "stream": "stdout",
       "text": " 2*x**(3/2)/(3*sqrt(1 + x**(-3))) - 2*asinh(x**(-3/2))/3 + 2/(3*x**(3/2)*sqrt(1 + x**(-3)))\ncomment   : Diffs not back to zero. (Check use of abs.)"
      },
      {
       "output_type": "stream",
       "stream": "stdout",
       "text": "\ntime      : 1.0\n\n"
      }
     ],
     "prompt_number": 25
    },
    {
     "cell_type": "code",
     "collapsed": false,
     "input": "test(Charlwood, 20)",
     "language": "python",
     "metadata": {},
     "outputs": [
      {
       "output_type": "stream",
       "stream": "stdout",
       "text": "[20] Charlwood\nintegrand : x*log(x + sqrt(x**2 - 1))/sqrt(x**2 - 1)\nantideriv : -x + sqrt(x**2 - 1)*log(x + sqrt(x**2 - 1))\ntime      :"
      },
      {
       "output_type": "stream",
       "stream": "stdout",
       "text": " 59.0\nintegrator: Timed out!\n"
      }
     ],
     "prompt_number": 26
    },
    {
     "cell_type": "code",
     "collapsed": false,
     "input": "test(Charlwood, 21)",
     "language": "python",
     "metadata": {},
     "outputs": [
      {
       "output_type": "stream",
       "stream": "stdout",
       "text": "[21] Charlwood\nintegrand : x**3*asin(x)/sqrt(-x**4 + 1)\nantideriv : x*sqrt(x**2 + 1)/4 - sqrt(-x**4 + 1)*asin(x)/2 + asinh(x)/4\nsympy     :"
      },
      {
       "output_type": "stream",
       "stream": "stdout",
       "text": " Integral(x**3*asin(x)/sqrt(-x**4 + 1), x)\ncomment   : Unevaluated or not an elementary solution!\ntime      : 37.0\n\n"
      }
     ],
     "prompt_number": 27
    },
    {
     "cell_type": "code",
     "collapsed": false,
     "input": "test(Charlwood, 22)",
     "language": "python",
     "metadata": {},
     "outputs": [
      {
       "output_type": "stream",
       "stream": "stdout",
       "text": "[22] Charlwood\nintegrand : x**3*acos(1/x)/sqrt(x**4 - 1)\nantideriv : sqrt(x**4 - 1)*acos(1/x)/2 + atanh(x*sqrt(1 - 1/x**2)/sqrt(x**4 - 1))/2 - sqrt(x**4 - 1)/(2*x*sqrt(1 - 1/x**2))\ntime      :"
      },
      {
       "output_type": "stream",
       "stream": "stdout",
       "text": " 62.0\nintegrator: Timed out!\n"
      }
     ],
     "prompt_number": 28
    },
    {
     "cell_type": "code",
     "collapsed": false,
     "input": "test(Charlwood, 23)",
     "language": "python",
     "metadata": {},
     "outputs": [
      {
       "output_type": "stream",
       "stream": "stdout",
       "text": "[23] Charlwood\nintegrand : x*log(x + sqrt(x**2 + 1))*atan(x)/sqrt(x**2 + 1)\nantideriv : -x*atan(x) + sqrt(x**2 + 1)*log(x + sqrt(x**2 + 1))*atan(x) - log(x + sqrt(x**2 + 1))**2/2 + log(x**2 + 1)/2\ntime      :"
      },
      {
       "output_type": "stream",
       "stream": "stdout",
       "text": " 64.0\nintegrator: Timed out!\n"
      }
     ],
     "prompt_number": 29
    },
    {
     "cell_type": "code",
     "collapsed": false,
     "input": "test(Charlwood, 24)",
     "language": "python",
     "metadata": {},
     "outputs": [
      {
       "output_type": "stream",
       "stream": "stdout",
       "text": "[24] Charlwood\nintegrand : x*log(sqrt(-x**2 + 1) + 1)/sqrt(-x**2 + 1)\nantideriv : sqrt(-x**2 + 1) - (sqrt(-x**2 + 1) + 1)*log(sqrt(-x**2 + 1) + 1)\ntime      :"
      },
      {
       "output_type": "stream",
       "stream": "stdout",
       "text": " 61.0\nintegrator: Timed out!\n"
      }
     ],
     "prompt_number": 30
    },
    {
     "cell_type": "code",
     "collapsed": false,
     "input": "test(Charlwood, 25)",
     "language": "python",
     "metadata": {},
     "outputs": [
      {
       "output_type": "stream",
       "stream": "stdout",
       "text": "[25] Charlwood\nintegrand : x*log(x + sqrt(x**2 + 1))/sqrt(x**2 + 1)\nantideriv : -x + sqrt(x**2 + 1)*log(x + sqrt(x**2 + 1))\ntime      :"
      },
      {
       "output_type": "stream",
       "stream": "stdout",
       "text": " 64.0\nintegrator: Timed out!\n"
      }
     ],
     "prompt_number": 31
    },
    {
     "cell_type": "code",
     "collapsed": false,
     "input": "test(Charlwood, 26)",
     "language": "python",
     "metadata": {},
     "outputs": [
      {
       "output_type": "stream",
       "stream": "stdout",
       "text": "[26] Charlwood\nintegrand : x*log(x + sqrt(-x**2 + 1))/sqrt(-x**2 + 1)\nantideriv : -sqrt(-x**2 + 1)*log(x + sqrt(-x**2 + 1)) + sqrt(-x**2 + 1) + sqrt(2)*atanh(sqrt(2)*x)/2 - sqrt(2)*atanh(sqrt(2)*sqrt(-x**2 + 1))/2\ntime      :"
      },
      {
       "output_type": "stream",
       "stream": "stdout",
       "text": " 66.0\nintegrator: Timed out!\n"
      }
     ],
     "prompt_number": 32
    },
    {
     "cell_type": "code",
     "collapsed": false,
     "input": "test(Charlwood, 27)",
     "language": "python",
     "metadata": {},
     "outputs": [
      {
       "output_type": "stream",
       "stream": "stdout",
       "text": "[27] Charlwood\nintegrand : log(x)/(x**2*sqrt(-x**2 + 1))\nantideriv : -asin(x) - sqrt(-x**2 + 1)*log(x)/x - sqrt(-x**2 + 1)/x\nsympy     :"
      },
      {
       "output_type": "stream",
       "stream": "stdout",
       "text": " Integral(log(x)/(x**2*sqrt(-x**2 + 1)), x)\ncomment   : Unevaluated or not an elementary solution!\ntime      : 41.0\n\n"
      }
     ],
     "prompt_number": 33
    },
    {
     "cell_type": "code",
     "collapsed": false,
     "input": "test(Charlwood, 28)",
     "language": "python",
     "metadata": {},
     "outputs": [
      {
       "output_type": "stream",
       "stream": "stdout",
       "text": "[28] Charlwood\nintegrand : x*atan(x)/sqrt(x**2 + 1)\nantideriv : sqrt(x**2 + 1)*atan(x) - asinh(x)\nsympy     :"
      },
      {
       "output_type": "stream",
       "stream": "stdout",
       "text": " x**2*atan(x)/sqrt(x**2 + 1) - asinh(x) + atan(x)/sqrt(x**2 + 1)\ntime      :"
      },
      {
       "output_type": "stream",
       "stream": "stdout",
       "text": " 6.0\n\n"
      }
     ],
     "prompt_number": 34
    },
    {
     "cell_type": "code",
     "collapsed": false,
     "input": "test(Charlwood, 29)",
     "language": "python",
     "metadata": {},
     "outputs": [
      {
       "output_type": "stream",
       "stream": "stdout",
       "text": "[29] Charlwood\nintegrand : atan(x)/(x**2*sqrt(-x**2 + 1))\nantideriv : sqrt(2)*atanh(sqrt(2)*sqrt(-x**2 + 1)/2) - atanh(sqrt(-x**2 + 1)) - sqrt(-x**2 + 1)*atan(x)/x\nsympy     :"
      },
      {
       "output_type": "stream",
       "stream": "stdout",
       "text": " Integral(atan(x)/(x**2*sqrt(-x**2 + 1)), x)\ncomment   : Unevaluated or not an elementary solution!\ntime      : 25.0\n\n"
      }
     ],
     "prompt_number": 35
    },
    {
     "cell_type": "code",
     "collapsed": false,
     "input": "test(Charlwood, 30)",
     "language": "python",
     "metadata": {},
     "outputs": [
      {
       "output_type": "stream",
       "stream": "stdout",
       "text": "[30] Charlwood\nintegrand : x*atan(x)/sqrt(-x**2 + 1)\nantideriv : -sqrt(-x**2 + 1)*atan(x) - asin(x) + sqrt(2)*atan(sqrt(2)*x/sqrt(-x**2 + 1))\ntime      :"
      },
      {
       "output_type": "stream",
       "stream": "stdout",
       "text": " 63.0\nintegrator: Timed out!\n"
      }
     ],
     "prompt_number": 36
    },
    {
     "cell_type": "code",
     "collapsed": false,
     "input": "test(Charlwood, 31)",
     "language": "python",
     "metadata": {},
     "outputs": [
      {
       "output_type": "stream",
       "stream": "stdout",
       "text": "[31] Charlwood\nintegrand : atan(x)/(x**2*sqrt(x**2 + 1))\nantideriv : -atanh(sqrt(x**2 + 1)) - sqrt(x**2 + 1)*atan(x)/x\ntime      :"
      },
      {
       "output_type": "stream",
       "stream": "stdout",
       "text": " 67.0\nintegrator: Timed out!\n"
      }
     ],
     "prompt_number": 37
    },
    {
     "cell_type": "code",
     "collapsed": false,
     "input": "test(Charlwood, 32)",
     "language": "python",
     "metadata": {},
     "outputs": [
      {
       "output_type": "stream",
       "stream": "stdout",
       "text": "[32] Charlwood\nintegrand : asin(x)/(x**2*sqrt(-x**2 + 1))\nantideriv : log(x) - sqrt(-x**2 + 1)*asin(x)/x\nsympy     :"
      },
      {
       "output_type": "stream",
       "stream": "stdout",
       "text": " Integral(asin(x)/(x**2*sqrt(-x**2 + 1)), x)\ncomment   : Unevaluated or not an elementary solution!\ntime      : 0.0\n\n"
      }
     ],
     "prompt_number": 38
    },
    {
     "cell_type": "code",
     "collapsed": false,
     "input": "test(Charlwood, 33)",
     "language": "python",
     "metadata": {},
     "outputs": [
      {
       "output_type": "stream",
       "stream": "stdout",
       "text": "[33] Charlwood\nintegrand : x*log(x)/sqrt(x**2 - 1)\nantideriv : sqrt(x**2 - 1)*log(x) - sqrt(x**2 - 1) + atan(sqrt(x**2 - 1))\nsympy     :"
      },
      {
       "output_type": "stream",
       "stream": "stdout",
       "text": " Integral(x*log(x)/sqrt(x**2 - 1), x)\ncomment   : Unevaluated or not an elementary solution!\ntime      : 10.0\n\n"
      }
     ],
     "prompt_number": 39
    },
    {
     "cell_type": "code",
     "collapsed": false,
     "input": "test(Charlwood, 34)",
     "language": "python",
     "metadata": {},
     "outputs": [
      {
       "output_type": "stream",
       "stream": "stdout",
       "text": "[34] Charlwood\nintegrand : log(x)/(x**2*sqrt(x**2 + 1))\nantideriv : asinh(x) - sqrt(x**2 + 1)*log(x)/x - sqrt(x**2 + 1)/x\nsympy     :"
      },
      {
       "output_type": "stream",
       "stream": "stdout",
       "text": " Integral(log(x)/(x**2*sqrt(x**2 + 1)), x)\ncomment   : Unevaluated or not an elementary solution!\ntime      : 44.0\n\n"
      }
     ],
     "prompt_number": 40
    },
    {
     "cell_type": "code",
     "collapsed": false,
     "input": "test(Charlwood, 35)",
     "language": "python",
     "metadata": {},
     "outputs": [
      {
       "output_type": "stream",
       "stream": "stdout",
       "text": "[35] Charlwood\nintegrand : x*acos(1/x)/sqrt(x**2 - 1)\nantideriv : -x*sqrt(1 - 1/x**2)*log(x)/sqrt(x**2 - 1) + sqrt(x**2 - 1)*acos(1/x)\ntime      :"
      },
      {
       "output_type": "stream",
       "stream": "stdout",
       "text": " 68.0\nintegrator: Timed out!\n"
      }
     ],
     "prompt_number": 41
    },
    {
     "cell_type": "code",
     "collapsed": false,
     "input": "test(Charlwood, 36)",
     "language": "python",
     "metadata": {},
     "outputs": [
      {
       "output_type": "stream",
       "stream": "stdout",
       "text": "[36] Charlwood\nintegrand : x*log(x)/sqrt(x**2 + 1)\nantideriv : sqrt(x**2 + 1)*log(x) - sqrt(x**2 + 1) + atanh(sqrt(x**2 + 1))\nsympy     :"
      },
      {
       "output_type": "stream",
       "stream": "stdout",
       "text": " Integral(x*log(x)/sqrt(x**2 + 1), x)\ncomment   : Unevaluated or not an elementary solution!\ntime      : 10.0\n\n"
      }
     ],
     "prompt_number": 42
    },
    {
     "cell_type": "code",
     "collapsed": false,
     "input": "test(Charlwood, 37)",
     "language": "python",
     "metadata": {},
     "outputs": [
      {
       "output_type": "stream",
       "stream": "stdout",
       "text": "[37] Charlwood\nintegrand : sin(x)/(sin(x)**2 + 1)\nantideriv : -sqrt(2)*atanh(sqrt(2)*cos(x)/2)/2\ntime      :"
      },
      {
       "output_type": "stream",
       "stream": "stdout",
       "text": " 59.0\nintegrator: Timed out!\n"
      }
     ],
     "prompt_number": 43
    },
    {
     "cell_type": "code",
     "collapsed": false,
     "input": "test(Charlwood, 38)",
     "language": "python",
     "metadata": {},
     "outputs": [
      {
       "output_type": "stream",
       "stream": "stdout",
       "text": "[38] Charlwood\nintegrand : (x**2 + 1)/((-x**2 + 1)*sqrt(x**4 + 1))\nantideriv : sqrt(2)*atanh(sqrt(2)*x/sqrt(x**4 + 1))/2\nsympy     :"
      },
      {
       "output_type": "stream",
       "stream": "stdout",
       "text": " Integral((x**2 + 1)/((-x**2 + 1)*sqrt(x**4 + 1)), x)\ncomment   : Unevaluated or not an elementary solution!\ntime      : 1.0\n\n"
      }
     ],
     "prompt_number": 44
    },
    {
     "cell_type": "code",
     "collapsed": false,
     "input": "test(Charlwood, 39)",
     "language": "python",
     "metadata": {},
     "outputs": [
      {
       "output_type": "stream",
       "stream": "stdout",
       "text": "[39] Charlwood\nintegrand : (-x**2 + 1)/((x**2 + 1)*sqrt(x**4 + 1))\nantideriv : sqrt(2)*atan(sqrt(2)*x/sqrt(x**4 + 1))/2\nsympy     :"
      },
      {
       "output_type": "stream",
       "stream": "stdout",
       "text": " Integral((-x**2 + 1)/((x**2 + 1)*sqrt(x**4 + 1)), x)\ncomment   : Unevaluated or not an elementary solution!\ntime      : 1.0\n\n"
      }
     ],
     "prompt_number": 45
    },
    {
     "cell_type": "code",
     "collapsed": false,
     "input": "test(Charlwood, 40)",
     "language": "python",
     "metadata": {},
     "outputs": [
      {
       "output_type": "stream",
       "stream": "stdout",
       "text": "[40] Charlwood\nintegrand : log(sin(x))/(sin(x) + 1)\nantideriv : -x - atanh(cos(x)) - log(sin(x))*cos(x)/(sin(x) + 1)\ntime      :"
      },
      {
       "output_type": "stream",
       "stream": "stdout",
       "text": " 73.0\nintegrator: Timed out!\n"
      }
     ],
     "prompt_number": 46
    },
    {
     "cell_type": "code",
     "collapsed": false,
     "input": "test(Charlwood, 41)",
     "language": "python",
     "metadata": {},
     "outputs": [
      {
       "output_type": "stream",
       "stream": "stdout",
       "text": "[41] Charlwood\nintegrand : sqrt(sin(x) + 1)*log(sin(x))\nantideriv : -4*atanh(cos(x)/sqrt(sin(x) + 1)) - 2*log(sin(x))*cos(x)/sqrt(sin(x) + 1) + 4*cos(x)/sqrt(sin(x) + 1)\nsympy     :"
      },
      {
       "output_type": "stream",
       "stream": "stdout",
       "text": " Integral(sqrt(sin(x) + 1)*log(sin(x)), x)\ncomment   : Unevaluated or not an elementary solution!\ntime      : 35.0\n\n"
      }
     ],
     "prompt_number": 47
    },
    {
     "cell_type": "code",
     "collapsed": false,
     "input": "test(Charlwood, 42)",
     "language": "python",
     "metadata": {},
     "outputs": [
      {
       "output_type": "stream",
       "stream": "stdout",
       "text": "[42] Charlwood\nintegrand : sec(x)/sqrt(sec(x)**4 - 1)\nantideriv : -sqrt(2)*atanh(sqrt(2)*sqrt(sec(x)**4 - 1)*cos(x)*cot(x)/2)/2\nsympy     :"
      },
      {
       "output_type": "stream",
       "stream": "stdout",
       "text": " Integral(sec(x)/sqrt(sec(x)**4 - 1), x)\ncomment   : Unevaluated or not an elementary solution!\ntime      : 0.0\n\n"
      }
     ],
     "prompt_number": 48
    },
    {
     "cell_type": "code",
     "collapsed": false,
     "input": "test(Charlwood, 43)",
     "language": "python",
     "metadata": {},
     "outputs": [
      {
       "output_type": "stream",
       "stream": "stdout",
       "text": "[43] Charlwood\nintegrand : tan(x)/sqrt(tan(x)**4 + 1)\nantideriv : -sqrt(2)*atanh(sqrt(2)*(-tan(x)**2 + 1)/(2*sqrt(tan(x)**4 + 1)))/4\nsympy     :"
      },
      {
       "output_type": "stream",
       "stream": "stdout",
       "text": " Integral(tan(x)/sqrt(tan(x)**4 + 1), x)\ncomment   : Unevaluated or not an elementary solution!\ntime      : 0.0\n\n"
      }
     ],
     "prompt_number": 49
    },
    {
     "cell_type": "code",
     "collapsed": false,
     "input": "test(Charlwood, 44)",
     "language": "python",
     "metadata": {},
     "outputs": [
      {
       "output_type": "stream",
       "stream": "stdout",
       "text": "[44] Charlwood\nintegrand : sin(x)/sqrt(-sin(x)**6 + 1)\nantideriv : sqrt(3)*atanh(sqrt(3)*(sin(x)**2 + 1)*cos(x)/(2*sqrt(-sin(x)**6 + 1)))/6\ntime      :"
      },
      {
       "output_type": "stream",
       "stream": "stdout",
       "text": " 60.0\nintegrator: Timed out!\n"
      }
     ],
     "prompt_number": 50
    },
    {
     "cell_type": "code",
     "collapsed": false,
     "input": "test(Charlwood, 45)",
     "language": "python",
     "metadata": {},
     "outputs": [
      {
       "output_type": "stream",
       "stream": "stdout",
       "text": "[45] Charlwood\nintegrand : sqrt(-sqrt(sec(x) - 1) + sqrt(sec(x) + 1))\nantideriv : sqrt(2)*sqrt(sec(x) - 1)*sqrt(sec(x) + 1)*(sqrt(-1 + sqrt(2))*atan(sqrt(-2 + 2*sqrt(2))*(-sqrt(sec(x) - 1) + sqrt(sec(x) + 1) - sqrt(2))/(2*sqrt(-sqrt(sec(x) - 1) + sqrt(sec(x) + 1)))) - sqrt(1 + sqrt(2))*atan(sqrt(2 + 2*sqrt(2))*(-sqrt(sec(x) - 1) + sqrt(sec(x) + 1) - sqrt(2))/(2*sqrt(-sqrt(sec(x) - 1) + sqrt(sec(x) + 1)))) - sqrt(1 + sqrt(2))*atanh(sqrt(-2 + 2*sqrt(2))*sqrt(-sqrt(sec(x) - 1) + sqrt(sec(x) + 1))/(-sqrt(sec(x) - 1) + sqrt(sec(x) + 1) + sqrt(2))) + sqrt(-1 + sqrt(2))*atanh(sqrt(2 + 2*sqrt(2))*sqrt(-sqrt(sec(x) - 1) + sqrt(sec(x) + 1))/(-sqrt(sec(x) - 1) + sqrt(sec(x) + 1) + sqrt(2))))*cot(x)\nsympy     :"
      },
      {
       "output_type": "stream",
       "stream": "stdout",
       "text": " Integral(sqrt(-sqrt(sec(x) - 1) + sqrt(sec(x) + 1)), x)\ncomment   : Unevaluated or not an elementary solution!\ntime      : 17.0\n\n"
      }
     ],
     "prompt_number": 51
    },
    {
     "cell_type": "code",
     "collapsed": false,
     "input": "test(Charlwood, 46)",
     "language": "python",
     "metadata": {},
     "outputs": [
      {
       "output_type": "stream",
       "stream": "stdout",
       "text": "[46] Charlwood\nintegrand : x*log(x**2 + 1)*atan(x)**2\nantideriv : -x*(log(x**2 + 1) - 3)*atan(x) + (log(x**2 + 1)/4 - 3/2)*log(x**2 + 1) + (-x**2 + (x**2 + 1)*log(x**2 + 1) - 3)*atan(x)**2/2\nsympy     :"
      },
      {
       "output_type": "stream",
       "stream": "stdout",
       "text": " x**2*log(x**2 + 1)*atan(x)**2/2 - x**2*atan(x)**2/2 - x*log(x**2 + 1)*atan(x) + 3*x*atan(x) + log(x**2 + 1)**2/4 + log(x**2 + 1)*atan(x)**2/2 - 3*log(x**2 + 1)/2 - 3*atan(x)**2/2\ntime      :"
      },
      {
       "output_type": "stream",
       "stream": "stdout",
       "text": " 19.0\n\n"
      }
     ],
     "prompt_number": 52
    },
    {
     "cell_type": "code",
     "collapsed": false,
     "input": "test(Charlwood, 47)",
     "language": "python",
     "metadata": {},
     "outputs": [
      {
       "output_type": "stream",
       "stream": "stdout",
       "text": "[47] Charlwood\nintegrand : atan(x*sqrt(x**2 + 1))\nantideriv : x*atan(x*sqrt(x**2 + 1)) + atan(sqrt(x**2 + 1)/x**2)/2 + sqrt(3)*atanh(sqrt(3)*sqrt(x**2 + 1)/(x**2 + 2))/2\ntime      :"
      },
      {
       "output_type": "stream",
       "stream": "stdout",
       "text": " 64.0\nintegrator: Timed out!\n"
      }
     ],
     "prompt_number": 53
    },
    {
     "cell_type": "code",
     "collapsed": false,
     "input": "test(Charlwood, 48)",
     "language": "python",
     "metadata": {},
     "outputs": [
      {
       "output_type": "stream",
       "stream": "stdout",
       "text": "[48] Charlwood\nintegrand : -atan(sqrt(x) - sqrt(x + 1))\nantideriv : sqrt(x)/2 - (x + 1)*atan(sqrt(x) - sqrt(x + 1))\ntime      :"
      },
      {
       "output_type": "stream",
       "stream": "stdout",
       "text": " 64.0\nintegrator: Timed out!\n"
      }
     ],
     "prompt_number": 54
    },
    {
     "cell_type": "code",
     "collapsed": false,
     "input": "test(Charlwood, 49)",
     "language": "python",
     "metadata": {},
     "outputs": [
      {
       "output_type": "stream",
       "stream": "stdout",
       "text": "[49] Charlwood\nintegrand : asin(x/sqrt(-x**2 + 1))\nantideriv : x*asin(x/sqrt(-x**2 + 1)) + atan(sqrt(-2*x**2 + 1))\ntime      :"
      },
      {
       "output_type": "stream",
       "stream": "stdout",
       "text": " 67.0\nintegrator: Timed out!\n"
      }
     ],
     "prompt_number": 55
    },
    {
     "cell_type": "code",
     "collapsed": false,
     "input": "test(Charlwood, 50)",
     "language": "python",
     "metadata": {},
     "outputs": [
      {
       "output_type": "stream",
       "stream": "stdout",
       "text": "[50] Charlwood\nintegrand : atan(x*sqrt(-x**2 + 1))\nantideriv : x*atan(x*sqrt(-x**2 + 1)) - sqrt(1/2 + sqrt(5)/2)*atan(sqrt(1/2 + sqrt(5)/2)*sqrt(-x**2 + 1)) + sqrt(-1/2 + sqrt(5)/2)*atanh(sqrt(-1/2 + sqrt(5)/2)*sqrt(-x**2 + 1))\ntime      :"
      },
      {
       "output_type": "stream",
       "stream": "stdout",
       "text": " 67.0\nintegrator: Timed out!\n"
      }
     ],
     "prompt_number": 56
    },
    {
     "cell_type": "code",
     "collapsed": false,
     "input": "",
     "language": "python",
     "metadata": {},
     "outputs": []
    }
   ],
   "metadata": {}
  }
 ]
}